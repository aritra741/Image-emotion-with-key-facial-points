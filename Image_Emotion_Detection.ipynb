{
  "nbformat": 4,
  "nbformat_minor": 0,
  "metadata": {
    "colab": {
      "name": "Image Emotion Detection.ipynb",
      "provenance": [],
      "collapsed_sections": []
    },
    "kernelspec": {
      "name": "python3",
      "display_name": "Python 3"
    },
    "language_info": {
      "name": "python"
    },
    "accelerator": "GPU"
  },
  "cells": [
    {
      "cell_type": "markdown",
      "metadata": {
        "id": "-di_Wk-MFqY8"
      },
      "source": [
        "## **Face key points detection**"
      ]
    },
    {
      "cell_type": "code",
      "metadata": {
        "id": "w6IYiqvCFxFy"
      },
      "source": [
        "import pandas as pd\n",
        "import numpy as np\n",
        "import os\n",
        "import PIL\n",
        "import seaborn as sns\n",
        "import pickle\n",
        "from PIL import *\n",
        "import cv2\n",
        "import tensorflow as tf\n",
        "from tensorflow import keras\n",
        "from tensorflow.keras.applications import DenseNet121\n",
        "from tensorflow.keras.models import Model, load_model\n",
        "from tensorflow.keras.initializers import glorot_uniform\n",
        "from tensorflow.keras.utils import plot_model\n",
        "from tensorflow.keras.callbacks import ReduceLROnPlateau, EarlyStopping, ModelCheckpoint, LearningRateScheduler\n",
        "from IPython.display import display\n",
        "from tensorflow.python.keras import *\n",
        "from tensorflow.keras.preprocessing.image import ImageDataGenerator\n",
        "from tensorflow.keras import layers, optimizers\n",
        "from tensorflow.keras.applications.resnet50 import ResNet50\n",
        "from tensorflow.keras.layers import *\n",
        "from tensorflow.keras import backend as K\n",
        "from keras import optimizers\n",
        "import matplotlib.pyplot as plt\n",
        "from sklearn.model_selection import train_test_split\n",
        "from google.colab.patches import cv2_imshow"
      ],
      "execution_count": 1,
      "outputs": []
    },
    {
      "cell_type": "code",
      "metadata": {
        "id": "NbnVdpLhJx0Y"
      },
      "source": [
        "facial_key= pd.read_csv(\"/content/drive/MyDrive/Emotion AI Dataset/data.csv\")"
      ],
      "execution_count": 2,
      "outputs": []
    },
    {
      "cell_type": "code",
      "metadata": {
        "colab": {
          "base_uri": "https://localhost:8080/",
          "height": 1000
        },
        "id": "LaNQImd5KRT9",
        "outputId": "d613b9ae-de35-4480-e840-7e74f6a749dc"
      },
      "source": [
        "facial_key"
      ],
      "execution_count": 3,
      "outputs": [
        {
          "output_type": "execute_result",
          "data": {
            "text/html": [
              "<div>\n",
              "<style scoped>\n",
              "    .dataframe tbody tr th:only-of-type {\n",
              "        vertical-align: middle;\n",
              "    }\n",
              "\n",
              "    .dataframe tbody tr th {\n",
              "        vertical-align: top;\n",
              "    }\n",
              "\n",
              "    .dataframe thead th {\n",
              "        text-align: right;\n",
              "    }\n",
              "</style>\n",
              "<table border=\"1\" class=\"dataframe\">\n",
              "  <thead>\n",
              "    <tr style=\"text-align: right;\">\n",
              "      <th></th>\n",
              "      <th>left_eye_center_x</th>\n",
              "      <th>left_eye_center_y</th>\n",
              "      <th>right_eye_center_x</th>\n",
              "      <th>right_eye_center_y</th>\n",
              "      <th>left_eye_inner_corner_x</th>\n",
              "      <th>left_eye_inner_corner_y</th>\n",
              "      <th>left_eye_outer_corner_x</th>\n",
              "      <th>left_eye_outer_corner_y</th>\n",
              "      <th>right_eye_inner_corner_x</th>\n",
              "      <th>right_eye_inner_corner_y</th>\n",
              "      <th>right_eye_outer_corner_x</th>\n",
              "      <th>right_eye_outer_corner_y</th>\n",
              "      <th>left_eyebrow_inner_end_x</th>\n",
              "      <th>left_eyebrow_inner_end_y</th>\n",
              "      <th>left_eyebrow_outer_end_x</th>\n",
              "      <th>left_eyebrow_outer_end_y</th>\n",
              "      <th>right_eyebrow_inner_end_x</th>\n",
              "      <th>right_eyebrow_inner_end_y</th>\n",
              "      <th>right_eyebrow_outer_end_x</th>\n",
              "      <th>right_eyebrow_outer_end_y</th>\n",
              "      <th>nose_tip_x</th>\n",
              "      <th>nose_tip_y</th>\n",
              "      <th>mouth_left_corner_x</th>\n",
              "      <th>mouth_left_corner_y</th>\n",
              "      <th>mouth_right_corner_x</th>\n",
              "      <th>mouth_right_corner_y</th>\n",
              "      <th>mouth_center_top_lip_x</th>\n",
              "      <th>mouth_center_top_lip_y</th>\n",
              "      <th>mouth_center_bottom_lip_x</th>\n",
              "      <th>mouth_center_bottom_lip_y</th>\n",
              "      <th>Image</th>\n",
              "    </tr>\n",
              "  </thead>\n",
              "  <tbody>\n",
              "    <tr>\n",
              "      <th>0</th>\n",
              "      <td>66.033564</td>\n",
              "      <td>39.002274</td>\n",
              "      <td>30.227008</td>\n",
              "      <td>36.421678</td>\n",
              "      <td>59.582075</td>\n",
              "      <td>39.647423</td>\n",
              "      <td>73.130346</td>\n",
              "      <td>39.969997</td>\n",
              "      <td>36.356571</td>\n",
              "      <td>37.389402</td>\n",
              "      <td>23.452872</td>\n",
              "      <td>37.389402</td>\n",
              "      <td>56.953263</td>\n",
              "      <td>29.033648</td>\n",
              "      <td>80.227128</td>\n",
              "      <td>32.228138</td>\n",
              "      <td>40.227609</td>\n",
              "      <td>29.002322</td>\n",
              "      <td>16.356379</td>\n",
              "      <td>29.647471</td>\n",
              "      <td>44.420571</td>\n",
              "      <td>57.066803</td>\n",
              "      <td>61.195308</td>\n",
              "      <td>79.970165</td>\n",
              "      <td>28.614496</td>\n",
              "      <td>77.388992</td>\n",
              "      <td>43.312602</td>\n",
              "      <td>72.935459</td>\n",
              "      <td>43.130707</td>\n",
              "      <td>84.485774</td>\n",
              "      <td>238 236 237 238 240 240 239 241 241 243 240 23...</td>\n",
              "    </tr>\n",
              "    <tr>\n",
              "      <th>1</th>\n",
              "      <td>64.332936</td>\n",
              "      <td>34.970077</td>\n",
              "      <td>29.949277</td>\n",
              "      <td>33.448715</td>\n",
              "      <td>58.856170</td>\n",
              "      <td>35.274349</td>\n",
              "      <td>70.722723</td>\n",
              "      <td>36.187166</td>\n",
              "      <td>36.034723</td>\n",
              "      <td>34.361532</td>\n",
              "      <td>24.472511</td>\n",
              "      <td>33.144443</td>\n",
              "      <td>53.987404</td>\n",
              "      <td>28.275949</td>\n",
              "      <td>78.634213</td>\n",
              "      <td>30.405923</td>\n",
              "      <td>42.728851</td>\n",
              "      <td>26.146043</td>\n",
              "      <td>16.865362</td>\n",
              "      <td>27.058860</td>\n",
              "      <td>48.206298</td>\n",
              "      <td>55.660936</td>\n",
              "      <td>56.421447</td>\n",
              "      <td>76.352000</td>\n",
              "      <td>35.122383</td>\n",
              "      <td>76.047660</td>\n",
              "      <td>46.684596</td>\n",
              "      <td>70.266553</td>\n",
              "      <td>45.467915</td>\n",
              "      <td>85.480170</td>\n",
              "      <td>219 215 204 196 204 211 212 200 180 168 178 19...</td>\n",
              "    </tr>\n",
              "    <tr>\n",
              "      <th>2</th>\n",
              "      <td>65.057053</td>\n",
              "      <td>34.909642</td>\n",
              "      <td>30.903789</td>\n",
              "      <td>34.909642</td>\n",
              "      <td>59.412000</td>\n",
              "      <td>36.320968</td>\n",
              "      <td>70.984421</td>\n",
              "      <td>36.320968</td>\n",
              "      <td>37.678105</td>\n",
              "      <td>36.320968</td>\n",
              "      <td>24.976421</td>\n",
              "      <td>36.603221</td>\n",
              "      <td>55.742526</td>\n",
              "      <td>27.570947</td>\n",
              "      <td>78.887368</td>\n",
              "      <td>32.651621</td>\n",
              "      <td>42.193895</td>\n",
              "      <td>28.135453</td>\n",
              "      <td>16.791158</td>\n",
              "      <td>32.087116</td>\n",
              "      <td>47.557263</td>\n",
              "      <td>53.538947</td>\n",
              "      <td>60.822947</td>\n",
              "      <td>73.014316</td>\n",
              "      <td>33.726316</td>\n",
              "      <td>72.732000</td>\n",
              "      <td>47.274947</td>\n",
              "      <td>70.191789</td>\n",
              "      <td>47.274947</td>\n",
              "      <td>78.659368</td>\n",
              "      <td>144 142 159 180 188 188 184 180 167 132 84 59 ...</td>\n",
              "    </tr>\n",
              "    <tr>\n",
              "      <th>3</th>\n",
              "      <td>65.225739</td>\n",
              "      <td>37.261774</td>\n",
              "      <td>32.023096</td>\n",
              "      <td>37.261774</td>\n",
              "      <td>60.003339</td>\n",
              "      <td>39.127179</td>\n",
              "      <td>72.314713</td>\n",
              "      <td>38.380967</td>\n",
              "      <td>37.618643</td>\n",
              "      <td>38.754115</td>\n",
              "      <td>25.307270</td>\n",
              "      <td>38.007903</td>\n",
              "      <td>56.433809</td>\n",
              "      <td>30.929864</td>\n",
              "      <td>77.910261</td>\n",
              "      <td>31.665725</td>\n",
              "      <td>41.671513</td>\n",
              "      <td>31.049990</td>\n",
              "      <td>20.458017</td>\n",
              "      <td>29.909343</td>\n",
              "      <td>51.885078</td>\n",
              "      <td>54.166539</td>\n",
              "      <td>65.598887</td>\n",
              "      <td>72.703722</td>\n",
              "      <td>37.245496</td>\n",
              "      <td>74.195478</td>\n",
              "      <td>50.303165</td>\n",
              "      <td>70.091687</td>\n",
              "      <td>51.561183</td>\n",
              "      <td>78.268383</td>\n",
              "      <td>193 192 193 194 194 194 193 192 168 111 50 12 ...</td>\n",
              "    </tr>\n",
              "    <tr>\n",
              "      <th>4</th>\n",
              "      <td>66.725301</td>\n",
              "      <td>39.621261</td>\n",
              "      <td>32.244810</td>\n",
              "      <td>38.042032</td>\n",
              "      <td>58.565890</td>\n",
              "      <td>39.621261</td>\n",
              "      <td>72.515926</td>\n",
              "      <td>39.884466</td>\n",
              "      <td>36.982380</td>\n",
              "      <td>39.094852</td>\n",
              "      <td>22.506110</td>\n",
              "      <td>38.305237</td>\n",
              "      <td>57.249571</td>\n",
              "      <td>30.672177</td>\n",
              "      <td>77.762945</td>\n",
              "      <td>31.737247</td>\n",
              "      <td>38.035436</td>\n",
              "      <td>30.935382</td>\n",
              "      <td>15.925870</td>\n",
              "      <td>30.672177</td>\n",
              "      <td>43.299534</td>\n",
              "      <td>64.889521</td>\n",
              "      <td>60.671411</td>\n",
              "      <td>77.523239</td>\n",
              "      <td>31.191755</td>\n",
              "      <td>76.997301</td>\n",
              "      <td>44.962748</td>\n",
              "      <td>73.707387</td>\n",
              "      <td>44.227141</td>\n",
              "      <td>86.871166</td>\n",
              "      <td>147 148 160 196 215 214 216 217 219 220 206 18...</td>\n",
              "    </tr>\n",
              "    <tr>\n",
              "      <th>...</th>\n",
              "      <td>...</td>\n",
              "      <td>...</td>\n",
              "      <td>...</td>\n",
              "      <td>...</td>\n",
              "      <td>...</td>\n",
              "      <td>...</td>\n",
              "      <td>...</td>\n",
              "      <td>...</td>\n",
              "      <td>...</td>\n",
              "      <td>...</td>\n",
              "      <td>...</td>\n",
              "      <td>...</td>\n",
              "      <td>...</td>\n",
              "      <td>...</td>\n",
              "      <td>...</td>\n",
              "      <td>...</td>\n",
              "      <td>...</td>\n",
              "      <td>...</td>\n",
              "      <td>...</td>\n",
              "      <td>...</td>\n",
              "      <td>...</td>\n",
              "      <td>...</td>\n",
              "      <td>...</td>\n",
              "      <td>...</td>\n",
              "      <td>...</td>\n",
              "      <td>...</td>\n",
              "      <td>...</td>\n",
              "      <td>...</td>\n",
              "      <td>...</td>\n",
              "      <td>...</td>\n",
              "      <td>...</td>\n",
              "    </tr>\n",
              "    <tr>\n",
              "      <th>2135</th>\n",
              "      <td>67.180378</td>\n",
              "      <td>35.816373</td>\n",
              "      <td>33.239956</td>\n",
              "      <td>34.921932</td>\n",
              "      <td>59.347973</td>\n",
              "      <td>37.000904</td>\n",
              "      <td>72.667896</td>\n",
              "      <td>37.097600</td>\n",
              "      <td>39.404349</td>\n",
              "      <td>36.589944</td>\n",
              "      <td>24.972418</td>\n",
              "      <td>36.348203</td>\n",
              "      <td>56.402841</td>\n",
              "      <td>31.171586</td>\n",
              "      <td>80.709708</td>\n",
              "      <td>30.595738</td>\n",
              "      <td>38.187845</td>\n",
              "      <td>30.595738</td>\n",
              "      <td>17.275454</td>\n",
              "      <td>29.534964</td>\n",
              "      <td>45.805390</td>\n",
              "      <td>60.065396</td>\n",
              "      <td>64.397610</td>\n",
              "      <td>73.248393</td>\n",
              "      <td>35.446431</td>\n",
              "      <td>74.014748</td>\n",
              "      <td>48.708626</td>\n",
              "      <td>76.760852</td>\n",
              "      <td>48.559612</td>\n",
              "      <td>77.335618</td>\n",
              "      <td>191 191 191 190 189 185 184 120 54 34 19 24 31...</td>\n",
              "    </tr>\n",
              "    <tr>\n",
              "      <th>2136</th>\n",
              "      <td>65.724490</td>\n",
              "      <td>36.301020</td>\n",
              "      <td>25.377551</td>\n",
              "      <td>37.311224</td>\n",
              "      <td>58.530612</td>\n",
              "      <td>37.739796</td>\n",
              "      <td>74.448980</td>\n",
              "      <td>37.525510</td>\n",
              "      <td>33.551020</td>\n",
              "      <td>38.107143</td>\n",
              "      <td>15.979592</td>\n",
              "      <td>38.076531</td>\n",
              "      <td>56.941270</td>\n",
              "      <td>29.605102</td>\n",
              "      <td>81.314059</td>\n",
              "      <td>30.754762</td>\n",
              "      <td>35.059410</td>\n",
              "      <td>29.566780</td>\n",
              "      <td>8.578912</td>\n",
              "      <td>32.096032</td>\n",
              "      <td>53.649433</td>\n",
              "      <td>62.472789</td>\n",
              "      <td>66.928121</td>\n",
              "      <td>79.229046</td>\n",
              "      <td>28.015377</td>\n",
              "      <td>81.151722</td>\n",
              "      <td>48.771976</td>\n",
              "      <td>81.816774</td>\n",
              "      <td>49.287271</td>\n",
              "      <td>82.871156</td>\n",
              "      <td>19 19 19 18 13 7 3 4 3 1 3 9 11 12 12 13 10 9 ...</td>\n",
              "    </tr>\n",
              "    <tr>\n",
              "      <th>2137</th>\n",
              "      <td>68.430866</td>\n",
              "      <td>38.651975</td>\n",
              "      <td>28.895857</td>\n",
              "      <td>37.617027</td>\n",
              "      <td>61.659350</td>\n",
              "      <td>40.100902</td>\n",
              "      <td>75.586792</td>\n",
              "      <td>40.219182</td>\n",
              "      <td>37.665118</td>\n",
              "      <td>39.087245</td>\n",
              "      <td>21.621652</td>\n",
              "      <td>39.095524</td>\n",
              "      <td>62.388142</td>\n",
              "      <td>32.089787</td>\n",
              "      <td>85.829396</td>\n",
              "      <td>38.724104</td>\n",
              "      <td>42.595762</td>\n",
              "      <td>30.541779</td>\n",
              "      <td>11.230184</td>\n",
              "      <td>34.485512</td>\n",
              "      <td>53.318891</td>\n",
              "      <td>63.289576</td>\n",
              "      <td>68.864397</td>\n",
              "      <td>77.495823</td>\n",
              "      <td>22.013981</td>\n",
              "      <td>77.368995</td>\n",
              "      <td>49.180628</td>\n",
              "      <td>79.043130</td>\n",
              "      <td>47.176739</td>\n",
              "      <td>89.544522</td>\n",
              "      <td>31 40 47 31 54 58 63 100 86 80 82 75 79 86 90 ...</td>\n",
              "    </tr>\n",
              "    <tr>\n",
              "      <th>2138</th>\n",
              "      <td>64.152180</td>\n",
              "      <td>30.691592</td>\n",
              "      <td>27.000898</td>\n",
              "      <td>40.868082</td>\n",
              "      <td>56.505624</td>\n",
              "      <td>34.126963</td>\n",
              "      <td>73.436776</td>\n",
              "      <td>28.556335</td>\n",
              "      <td>34.746122</td>\n",
              "      <td>40.506939</td>\n",
              "      <td>16.850204</td>\n",
              "      <td>44.409861</td>\n",
              "      <td>51.463469</td>\n",
              "      <td>27.161327</td>\n",
              "      <td>77.354898</td>\n",
              "      <td>19.562755</td>\n",
              "      <td>34.135510</td>\n",
              "      <td>32.830102</td>\n",
              "      <td>9.731633</td>\n",
              "      <td>41.152347</td>\n",
              "      <td>54.075935</td>\n",
              "      <td>59.735799</td>\n",
              "      <td>73.730743</td>\n",
              "      <td>70.273886</td>\n",
              "      <td>38.777143</td>\n",
              "      <td>80.684286</td>\n",
              "      <td>58.042857</td>\n",
              "      <td>79.301429</td>\n",
              "      <td>58.611086</td>\n",
              "      <td>80.355543</td>\n",
              "      <td>7 1 5 1 3 20 12 0 5 8 6 18 13 9 8 12 12 11 4 8...</td>\n",
              "    </tr>\n",
              "    <tr>\n",
              "      <th>2139</th>\n",
              "      <td>66.683755</td>\n",
              "      <td>34.483429</td>\n",
              "      <td>30.784490</td>\n",
              "      <td>38.578939</td>\n",
              "      <td>59.255347</td>\n",
              "      <td>36.065143</td>\n",
              "      <td>73.942694</td>\n",
              "      <td>34.624653</td>\n",
              "      <td>37.478531</td>\n",
              "      <td>39.398041</td>\n",
              "      <td>22.056816</td>\n",
              "      <td>40.330122</td>\n",
              "      <td>53.299787</td>\n",
              "      <td>29.987657</td>\n",
              "      <td>80.947787</td>\n",
              "      <td>27.977535</td>\n",
              "      <td>38.779298</td>\n",
              "      <td>33.302596</td>\n",
              "      <td>14.798890</td>\n",
              "      <td>35.982760</td>\n",
              "      <td>49.973878</td>\n",
              "      <td>59.269388</td>\n",
              "      <td>72.600433</td>\n",
              "      <td>71.862041</td>\n",
              "      <td>34.232759</td>\n",
              "      <td>77.339429</td>\n",
              "      <td>51.599453</td>\n",
              "      <td>75.963592</td>\n",
              "      <td>52.923371</td>\n",
              "      <td>82.661062</td>\n",
              "      <td>68 19 19 23 19 26 23 16 8 15 9 9 17 16 15 27 2...</td>\n",
              "    </tr>\n",
              "  </tbody>\n",
              "</table>\n",
              "<p>2140 rows × 31 columns</p>\n",
              "</div>"
            ],
            "text/plain": [
              "      left_eye_center_x  ...                                              Image\n",
              "0             66.033564  ...  238 236 237 238 240 240 239 241 241 243 240 23...\n",
              "1             64.332936  ...  219 215 204 196 204 211 212 200 180 168 178 19...\n",
              "2             65.057053  ...  144 142 159 180 188 188 184 180 167 132 84 59 ...\n",
              "3             65.225739  ...  193 192 193 194 194 194 193 192 168 111 50 12 ...\n",
              "4             66.725301  ...  147 148 160 196 215 214 216 217 219 220 206 18...\n",
              "...                 ...  ...                                                ...\n",
              "2135          67.180378  ...  191 191 191 190 189 185 184 120 54 34 19 24 31...\n",
              "2136          65.724490  ...  19 19 19 18 13 7 3 4 3 1 3 9 11 12 12 13 10 9 ...\n",
              "2137          68.430866  ...  31 40 47 31 54 58 63 100 86 80 82 75 79 86 90 ...\n",
              "2138          64.152180  ...  7 1 5 1 3 20 12 0 5 8 6 18 13 9 8 12 12 11 4 8...\n",
              "2139          66.683755  ...  68 19 19 23 19 26 23 16 8 15 9 9 17 16 15 27 2...\n",
              "\n",
              "[2140 rows x 31 columns]"
            ]
          },
          "metadata": {
            "tags": []
          },
          "execution_count": 3
        }
      ]
    },
    {
      "cell_type": "code",
      "metadata": {
        "colab": {
          "base_uri": "https://localhost:8080/"
        },
        "id": "V88cYyDVLR0j",
        "outputId": "3996aea5-ec39-46b5-db9e-e24927e6d49a"
      },
      "source": [
        "facial_key.info()"
      ],
      "execution_count": 4,
      "outputs": [
        {
          "output_type": "stream",
          "text": [
            "<class 'pandas.core.frame.DataFrame'>\n",
            "RangeIndex: 2140 entries, 0 to 2139\n",
            "Data columns (total 31 columns):\n",
            " #   Column                     Non-Null Count  Dtype  \n",
            "---  ------                     --------------  -----  \n",
            " 0   left_eye_center_x          2140 non-null   float64\n",
            " 1   left_eye_center_y          2140 non-null   float64\n",
            " 2   right_eye_center_x         2140 non-null   float64\n",
            " 3   right_eye_center_y         2140 non-null   float64\n",
            " 4   left_eye_inner_corner_x    2140 non-null   float64\n",
            " 5   left_eye_inner_corner_y    2140 non-null   float64\n",
            " 6   left_eye_outer_corner_x    2140 non-null   float64\n",
            " 7   left_eye_outer_corner_y    2140 non-null   float64\n",
            " 8   right_eye_inner_corner_x   2140 non-null   float64\n",
            " 9   right_eye_inner_corner_y   2140 non-null   float64\n",
            " 10  right_eye_outer_corner_x   2140 non-null   float64\n",
            " 11  right_eye_outer_corner_y   2140 non-null   float64\n",
            " 12  left_eyebrow_inner_end_x   2140 non-null   float64\n",
            " 13  left_eyebrow_inner_end_y   2140 non-null   float64\n",
            " 14  left_eyebrow_outer_end_x   2140 non-null   float64\n",
            " 15  left_eyebrow_outer_end_y   2140 non-null   float64\n",
            " 16  right_eyebrow_inner_end_x  2140 non-null   float64\n",
            " 17  right_eyebrow_inner_end_y  2140 non-null   float64\n",
            " 18  right_eyebrow_outer_end_x  2140 non-null   float64\n",
            " 19  right_eyebrow_outer_end_y  2140 non-null   float64\n",
            " 20  nose_tip_x                 2140 non-null   float64\n",
            " 21  nose_tip_y                 2140 non-null   float64\n",
            " 22  mouth_left_corner_x        2140 non-null   float64\n",
            " 23  mouth_left_corner_y        2140 non-null   float64\n",
            " 24  mouth_right_corner_x       2140 non-null   float64\n",
            " 25  mouth_right_corner_y       2140 non-null   float64\n",
            " 26  mouth_center_top_lip_x     2140 non-null   float64\n",
            " 27  mouth_center_top_lip_y     2140 non-null   float64\n",
            " 28  mouth_center_bottom_lip_x  2140 non-null   float64\n",
            " 29  mouth_center_bottom_lip_y  2140 non-null   float64\n",
            " 30  Image                      2140 non-null   object \n",
            "dtypes: float64(30), object(1)\n",
            "memory usage: 518.4+ KB\n"
          ],
          "name": "stdout"
        }
      ]
    },
    {
      "cell_type": "code",
      "metadata": {
        "colab": {
          "base_uri": "https://localhost:8080/"
        },
        "id": "S4tB5AcvLiJU",
        "outputId": "ecb57f4f-2052-484f-bf15-832cf5014f10"
      },
      "source": [
        "facial_key.isnull().sum()"
      ],
      "execution_count": 5,
      "outputs": [
        {
          "output_type": "execute_result",
          "data": {
            "text/plain": [
              "left_eye_center_x            0\n",
              "left_eye_center_y            0\n",
              "right_eye_center_x           0\n",
              "right_eye_center_y           0\n",
              "left_eye_inner_corner_x      0\n",
              "left_eye_inner_corner_y      0\n",
              "left_eye_outer_corner_x      0\n",
              "left_eye_outer_corner_y      0\n",
              "right_eye_inner_corner_x     0\n",
              "right_eye_inner_corner_y     0\n",
              "right_eye_outer_corner_x     0\n",
              "right_eye_outer_corner_y     0\n",
              "left_eyebrow_inner_end_x     0\n",
              "left_eyebrow_inner_end_y     0\n",
              "left_eyebrow_outer_end_x     0\n",
              "left_eyebrow_outer_end_y     0\n",
              "right_eyebrow_inner_end_x    0\n",
              "right_eyebrow_inner_end_y    0\n",
              "right_eyebrow_outer_end_x    0\n",
              "right_eyebrow_outer_end_y    0\n",
              "nose_tip_x                   0\n",
              "nose_tip_y                   0\n",
              "mouth_left_corner_x          0\n",
              "mouth_left_corner_y          0\n",
              "mouth_right_corner_x         0\n",
              "mouth_right_corner_y         0\n",
              "mouth_center_top_lip_x       0\n",
              "mouth_center_top_lip_y       0\n",
              "mouth_center_bottom_lip_x    0\n",
              "mouth_center_bottom_lip_y    0\n",
              "Image                        0\n",
              "dtype: int64"
            ]
          },
          "metadata": {
            "tags": []
          },
          "execution_count": 5
        }
      ]
    },
    {
      "cell_type": "code",
      "metadata": {
        "colab": {
          "base_uri": "https://localhost:8080/"
        },
        "id": "VgZGg9kTLt16",
        "outputId": "6ca25ccc-257a-40c7-8598-4fe035ef3a7d"
      },
      "source": [
        "facial_key['Image'].shape"
      ],
      "execution_count": 6,
      "outputs": [
        {
          "output_type": "execute_result",
          "data": {
            "text/plain": [
              "(2140,)"
            ]
          },
          "metadata": {
            "tags": []
          },
          "execution_count": 6
        }
      ]
    },
    {
      "cell_type": "code",
      "metadata": {
        "id": "nLo-vCXgNGSR"
      },
      "source": [
        "facial_key['Image']= facial_key['Image'].apply( lambda x: np.fromstring(x, dtype=int, sep=' ').reshape(96,96) )"
      ],
      "execution_count": 7,
      "outputs": []
    },
    {
      "cell_type": "code",
      "metadata": {
        "colab": {
          "base_uri": "https://localhost:8080/"
        },
        "id": "_ErjoXONNuLs",
        "outputId": "09a03648-945b-43d5-e6d3-04c5455739a1"
      },
      "source": [
        "facial_key['Image']"
      ],
      "execution_count": 8,
      "outputs": [
        {
          "output_type": "execute_result",
          "data": {
            "text/plain": [
              "0       [[238, 236, 237, 238, 240, 240, 239, 241, 241,...\n",
              "1       [[219, 215, 204, 196, 204, 211, 212, 200, 180,...\n",
              "2       [[144, 142, 159, 180, 188, 188, 184, 180, 167,...\n",
              "3       [[193, 192, 193, 194, 194, 194, 193, 192, 168,...\n",
              "4       [[147, 148, 160, 196, 215, 214, 216, 217, 219,...\n",
              "                              ...                        \n",
              "2135    [[191, 191, 191, 190, 189, 185, 184, 120, 54, ...\n",
              "2136    [[19, 19, 19, 18, 13, 7, 3, 4, 3, 1, 3, 9, 11,...\n",
              "2137    [[31, 40, 47, 31, 54, 58, 63, 100, 86, 80, 82,...\n",
              "2138    [[7, 1, 5, 1, 3, 20, 12, 0, 5, 8, 6, 18, 13, 9...\n",
              "2139    [[68, 19, 19, 23, 19, 26, 23, 16, 8, 15, 9, 9,...\n",
              "Name: Image, Length: 2140, dtype: object"
            ]
          },
          "metadata": {
            "tags": []
          },
          "execution_count": 8
        }
      ]
    },
    {
      "cell_type": "code",
      "metadata": {
        "colab": {
          "base_uri": "https://localhost:8080/",
          "height": 268
        },
        "id": "Iv6NxWDmNFtc",
        "outputId": "33bac13f-c2ef-4e23-a6b0-9c25ed7d1ab9"
      },
      "source": [
        "# Showing the image\n",
        "plt.imshow( facial_key['Image'][0], cmap= 'gray' )\n",
        "# Showing the key points\n",
        "for j in range( 1,31, 2 ):\n",
        "  plt.plot(facial_key.loc[0][j-1], facial_key.loc[0][j], 'rx')\n"
      ],
      "execution_count": 9,
      "outputs": [
        {
          "output_type": "display_data",
          "data": {
            "image/png": "[encoded data removed]",
            "text/plain": [
              "<Figure size 432x288 with 1 Axes>"
            ]
          },
          "metadata": {
            "tags": [],
            "needs_background": "light"
          }
        }
      ]
    },
    {
      "cell_type": "markdown",
      "metadata": {
        "id": "qqx1gqT8xqE9"
      },
      "source": [
        "## **Image augmentation**"
      ]
    },
    {
      "cell_type": "code",
      "metadata": {
        "id": "vpaVRvfNxwg1"
      },
      "source": [
        "import copy \n",
        "facial_key_copy= copy.copy( facial_key )"
      ],
      "execution_count": 10,
      "outputs": []
    },
    {
      "cell_type": "code",
      "metadata": {
        "colab": {
          "base_uri": "https://localhost:8080/"
        },
        "id": "V7Rx5TCFHfOs",
        "outputId": "6da4d0b8-2601-42ad-b154-4a0e2495feeb"
      },
      "source": [
        "columns= facial_key.columns[:-1]\n",
        "columns"
      ],
      "execution_count": 11,
      "outputs": [
        {
          "output_type": "execute_result",
          "data": {
            "text/plain": [
              "Index(['left_eye_center_x', 'left_eye_center_y', 'right_eye_center_x',\n",
              "       'right_eye_center_y', 'left_eye_inner_corner_x',\n",
              "       'left_eye_inner_corner_y', 'left_eye_outer_corner_x',\n",
              "       'left_eye_outer_corner_y', 'right_eye_inner_corner_x',\n",
              "       'right_eye_inner_corner_y', 'right_eye_outer_corner_x',\n",
              "       'right_eye_outer_corner_y', 'left_eyebrow_inner_end_x',\n",
              "       'left_eyebrow_inner_end_y', 'left_eyebrow_outer_end_x',\n",
              "       'left_eyebrow_outer_end_y', 'right_eyebrow_inner_end_x',\n",
              "       'right_eyebrow_inner_end_y', 'right_eyebrow_outer_end_x',\n",
              "       'right_eyebrow_outer_end_y', 'nose_tip_x', 'nose_tip_y',\n",
              "       'mouth_left_corner_x', 'mouth_left_corner_y', 'mouth_right_corner_x',\n",
              "       'mouth_right_corner_y', 'mouth_center_top_lip_x',\n",
              "       'mouth_center_top_lip_y', 'mouth_center_bottom_lip_x',\n",
              "       'mouth_center_bottom_lip_y'],\n",
              "      dtype='object')"
            ]
          },
          "metadata": {
            "tags": []
          },
          "execution_count": 11
        }
      ]
    },
    {
      "cell_type": "code",
      "metadata": {
        "id": "nZz-dbxoHrNz"
      },
      "source": [
        "# Horizontal flip\n",
        "facial_key_copy['Image']= facial_key_copy['Image'].apply( lambda x: np.flip( x, axis=1 ) )\n",
        "\n",
        "# Flipping the x co-ordinates of the key points\n",
        "for i in range(len(columns)):\n",
        "  if i%2==0:\n",
        "    facial_key_copy[columns[i]]= facial_key_copy[columns[i]].apply( lambda x: 96.-float(x) )"
      ],
      "execution_count": 12,
      "outputs": []
    },
    {
      "cell_type": "code",
      "metadata": {
        "colab": {
          "base_uri": "https://localhost:8080/",
          "height": 268
        },
        "id": "UEtoWpARIp0a",
        "outputId": "d244c352-f535-4b8f-d493-055ff54d0f15"
      },
      "source": [
        "plt.imshow( facial_key_copy['Image'][0], cmap='gray' )\n",
        "\n",
        "for i in range(1,31,2):\n",
        "  plt.plot( facial_key_copy.loc[0][i-1], facial_key_copy.loc[0][i], 'rx' )"
      ],
      "execution_count": 13,
      "outputs": [
        {
          "output_type": "display_data",
          "data": {
            "image/png": "[encoded data removed]",
            "text/plain": [
              "<Figure size 432x288 with 1 Axes>"
            ]
          },
          "metadata": {
            "tags": [],
            "needs_background": "light"
          }
        }
      ]
    },
    {
      "cell_type": "code",
      "metadata": {
        "colab": {
          "base_uri": "https://localhost:8080/"
        },
        "id": "YD-scfJlJXcz",
        "outputId": "3045b285-26f0-4004-db87-4595935c98f2"
      },
      "source": [
        "augmented_facial= np.concatenate( (facial_key, facial_key_copy) )\n",
        "augmented_facial.shape"
      ],
      "execution_count": 14,
      "outputs": [
        {
          "output_type": "execute_result",
          "data": {
            "text/plain": [
              "(4280, 31)"
            ]
          },
          "metadata": {
            "tags": []
          },
          "execution_count": 14
        }
      ]
    },
    {
      "cell_type": "code",
      "metadata": {
        "colab": {
          "base_uri": "https://localhost:8080/"
        },
        "id": "xaqmqUh8KMsM",
        "outputId": "5655895f-da21-468c-ecdb-7d94282764f4"
      },
      "source": [
        "# Increasing the brightness by multiplying the pixel values\n",
        "import random\n",
        "facial_key_copy= copy.copy( facial_key )\n",
        "\n",
        "facial_key_copy['Image']= facial_key_copy['Image'].apply( lambda x: np.clip( random.uniform(1.5,2)*x, 0.0, 255.0 ) )\n",
        "augmented_facial= np.concatenate( (augmented_facial, facial_key_copy) )\n",
        "augmented_facial.shape"
      ],
      "execution_count": 15,
      "outputs": [
        {
          "output_type": "execute_result",
          "data": {
            "text/plain": [
              "(6420, 31)"
            ]
          },
          "metadata": {
            "tags": []
          },
          "execution_count": 15
        }
      ]
    },
    {
      "cell_type": "code",
      "metadata": {
        "colab": {
          "base_uri": "https://localhost:8080/",
          "height": 268
        },
        "id": "Xp7C08I-UsmE",
        "outputId": "3e4bf5ce-c970-4c73-cf9b-88eadaa429ed"
      },
      "source": [
        "plt.imshow(facial_key_copy['Image'][0], cmap='gray')\n",
        "for j in range(1, 31, 2):\n",
        "        plt.plot(facial_key_copy.loc[0][j-1], facial_key_copy.loc[0][j], 'rx')"
      ],
      "execution_count": 16,
      "outputs": [
        {
          "output_type": "display_data",
          "data": {
            "image/png": "[encoded data removed]",
            "text/plain": [
              "<Figure size 432x288 with 1 Axes>"
            ]
          },
          "metadata": {
            "tags": [],
            "needs_background": "light"
          }
        }
      ]
    },
    {
      "cell_type": "markdown",
      "metadata": {
        "id": "TE4a-Eo7lYZY"
      },
      "source": [
        "## **Data normalization and preparation for training**"
      ]
    },
    {
      "cell_type": "code",
      "metadata": {
        "colab": {
          "base_uri": "https://localhost:8080/"
        },
        "id": "JvksLnuOle-v",
        "outputId": "6ae252c6-835a-4f5b-9bd9-5cc968e7680a"
      },
      "source": [
        "# Take the image from each row ( input )\n",
        "img= augmented_facial[:,30] \n",
        "\n",
        "# Normalize the image\n",
        "img/= 255\n",
        "\n",
        "# Create an empty array of shape (6420, 96, 96, 1)\n",
        "X= np.empty( (len(img), 96, 96, 1) )\n",
        "\n",
        "# extend the dimension of each image ( one extra dim for the channel ) and set X[i]\n",
        "for i in range( len(img) ):\n",
        "  X[i,]= np.expand_dims( img[i], axis=2 )\n",
        "\n",
        "X= np.asarray(X).astype(np.float32)\n",
        "X.shape"
      ],
      "execution_count": 17,
      "outputs": [
        {
          "output_type": "execute_result",
          "data": {
            "text/plain": [
              "(6420, 96, 96, 1)"
            ]
          },
          "metadata": {
            "tags": []
          },
          "execution_count": 17
        }
      ]
    },
    {
      "cell_type": "code",
      "metadata": {
        "colab": {
          "base_uri": "https://localhost:8080/"
        },
        "id": "D2FAZo5XnozH",
        "outputId": "48559b1e-2aa8-4e00-b108-55620a08b94a"
      },
      "source": [
        "# Loop through each row and take the key facial points ( output )\n",
        "y= augmented_facial[:,:30]\n",
        "y= np.asarray(y).astype(np.float32)\n",
        "y.shape"
      ],
      "execution_count": 18,
      "outputs": [
        {
          "output_type": "execute_result",
          "data": {
            "text/plain": [
              "(6420, 30)"
            ]
          },
          "metadata": {
            "tags": []
          },
          "execution_count": 18
        }
      ]
    },
    {
      "cell_type": "code",
      "metadata": {
        "id": "V1KZPrIsoKLW"
      },
      "source": [
        "X_train, X_test, y_train, y_test= train_test_split( X, y, test_size= 0.1 )"
      ],
      "execution_count": 19,
      "outputs": []
    },
    {
      "cell_type": "code",
      "metadata": {
        "colab": {
          "base_uri": "https://localhost:8080/"
        },
        "id": "ZWV87ILZoeFm",
        "outputId": "7bf5f862-7490-4d05-eea0-fbc32b06cd0c"
      },
      "source": [
        "X_train.shape"
      ],
      "execution_count": 20,
      "outputs": [
        {
          "output_type": "execute_result",
          "data": {
            "text/plain": [
              "(5778, 96, 96, 1)"
            ]
          },
          "metadata": {
            "tags": []
          },
          "execution_count": 20
        }
      ]
    },
    {
      "cell_type": "markdown",
      "metadata": {
        "id": "rfzd9puPUjap"
      },
      "source": [
        "## **Build Deep ResNet model for key facial points detection** "
      ]
    },
    {
      "cell_type": "code",
      "metadata": {
        "id": "dp-oRmGgU0XX"
      },
      "source": [
        "def res_block(X, filter, stage):\n",
        "\n",
        "  # Convolutional_block\n",
        "  X_copy = X\n",
        "\n",
        "  f1 , f2, f3 = filter\n",
        "\n",
        "  # Main Path\n",
        "  X = Conv2D(f1, (1,1),strides = (1,1), name ='res_'+str(stage)+'_conv_a', kernel_initializer= glorot_uniform(seed = 0))(X)\n",
        "  X = MaxPool2D((2,2))(X)\n",
        "  X = BatchNormalization(axis =3, name = 'bn_'+str(stage)+'_conv_a')(X)\n",
        "  X = Activation('relu')(X) \n",
        "\n",
        "  X = Conv2D(f2, kernel_size = (3,3), strides =(1,1), padding = 'same', name ='res_'+str(stage)+'_conv_b', kernel_initializer= glorot_uniform(seed = 0))(X)\n",
        "  X = BatchNormalization(axis =3, name = 'bn_'+str(stage)+'_conv_b')(X)\n",
        "  X = Activation('relu')(X) \n",
        "\n",
        "  X = Conv2D(f3, kernel_size = (1,1), strides =(1,1),name ='res_'+str(stage)+'_conv_c', kernel_initializer= glorot_uniform(seed = 0))(X)\n",
        "  X = BatchNormalization(axis =3, name = 'bn_'+str(stage)+'_conv_c')(X)\n",
        "\n",
        "\n",
        "  # Short path\n",
        "  X_copy = Conv2D(f3, kernel_size = (1,1), strides =(1,1),name ='res_'+str(stage)+'_conv_copy', kernel_initializer= glorot_uniform(seed = 0))(X_copy)\n",
        "  X_copy = MaxPool2D((2,2))(X_copy)\n",
        "  X_copy = BatchNormalization(axis =3, name = 'bn_'+str(stage)+'_conv_copy')(X_copy)\n",
        "\n",
        "  # ADD\n",
        "  X = Add()([X,X_copy])\n",
        "  X = Activation('relu')(X)\n",
        "\n",
        "  # Identity Block 1\n",
        "  X_copy = X\n",
        "\n",
        "\n",
        "  # Main Path\n",
        "  X = Conv2D(f1, (1,1),strides = (1,1), name ='res_'+str(stage)+'_identity_1_a', kernel_initializer= glorot_uniform(seed = 0))(X)\n",
        "  X = BatchNormalization(axis =3, name = 'bn_'+str(stage)+'_identity_1_a')(X)\n",
        "  X = Activation('relu')(X) \n",
        "\n",
        "  X = Conv2D(f2, kernel_size = (3,3), strides =(1,1), padding = 'same', name ='res_'+str(stage)+'_identity_1_b', kernel_initializer= glorot_uniform(seed = 0))(X)\n",
        "  X = BatchNormalization(axis =3, name = 'bn_'+str(stage)+'_identity_1_b')(X)\n",
        "  X = Activation('relu')(X) \n",
        "\n",
        "  X = Conv2D(f3, kernel_size = (1,1), strides =(1,1),name ='res_'+str(stage)+'_identity_1_c', kernel_initializer= glorot_uniform(seed = 0))(X)\n",
        "  X = BatchNormalization(axis =3, name = 'bn_'+str(stage)+'_identity_1_c')(X)\n",
        "\n",
        "  # ADD\n",
        "  X = Add()([X,X_copy])\n",
        "  X = Activation('relu')(X)\n",
        "\n",
        "  # Identity Block 2\n",
        "  X_copy = X\n",
        "\n",
        "\n",
        "  # Main Path\n",
        "  X = Conv2D(f1, (1,1),strides = (1,1), name ='res_'+str(stage)+'_identity_2_a', kernel_initializer= glorot_uniform(seed = 0))(X)\n",
        "  X = BatchNormalization(axis =3, name = 'bn_'+str(stage)+'_identity_2_a')(X)\n",
        "  X = Activation('relu')(X) \n",
        "\n",
        "  X = Conv2D(f2, kernel_size = (3,3), strides =(1,1), padding = 'same', name ='res_'+str(stage)+'_identity_2_b', kernel_initializer= glorot_uniform(seed = 0))(X)\n",
        "  X = BatchNormalization(axis =3, name = 'bn_'+str(stage)+'_identity_2_b')(X)\n",
        "  X = Activation('relu')(X) \n",
        "\n",
        "  X = Conv2D(f3, kernel_size = (1,1), strides =(1,1),name ='res_'+str(stage)+'_identity_2_c', kernel_initializer= glorot_uniform(seed = 0))(X)\n",
        "  X = BatchNormalization(axis =3, name = 'bn_'+str(stage)+'_identity_2_c')(X)\n",
        "\n",
        "  # ADD\n",
        "  X = Add()([X,X_copy])\n",
        "  X = Activation('relu')(X)\n",
        "\n",
        "  return X"
      ],
      "execution_count": 21,
      "outputs": []
    },
    {
      "cell_type": "code",
      "metadata": {
        "colab": {
          "base_uri": "https://localhost:8080/"
        },
        "id": "SKDIh8QJftw_",
        "outputId": "7ff533aa-a3bd-4ce4-fca6-f54201a41657"
      },
      "source": [
        "input_shape = (96, 96, 1)\n",
        "\n",
        "# Input tensor shape\n",
        "X_input = Input(input_shape)\n",
        "\n",
        "# Zero-padding\n",
        "X = ZeroPadding2D((3,3))(X_input)\n",
        "\n",
        "# 1 - stage\n",
        "X = Conv2D(64, (7,7), strides= (2,2), name = 'conv1', kernel_initializer= glorot_uniform(seed = 0))(X)\n",
        "X = BatchNormalization(axis =3, name = 'bn_conv1')(X)\n",
        "X = Activation('relu')(X)\n",
        "X = MaxPooling2D((3,3), strides= (2,2))(X)\n",
        "\n",
        "# 2 - stage\n",
        "X = res_block(X, filter= [64,64,256], stage= 2)\n",
        "\n",
        "# 3 - stage\n",
        "X = res_block(X, filter= [128,128,512], stage= 3)\n",
        "\n",
        "\n",
        "# Average Pooling\n",
        "X = AveragePooling2D((2,2), name = 'Averagea_Pooling')(X)\n",
        "\n",
        "# Final layer\n",
        "X = Flatten()(X)\n",
        "X = Dense(4096, activation = 'relu')(X)\n",
        "X = Dropout(0.2)(X)\n",
        "X = Dense(2048, activation = 'relu')(X)\n",
        "X = Dropout(0.1)(X)\n",
        "X = Dense(30, activation = 'relu')(X)\n",
        "\n",
        "\n",
        "model_1_facialKeyPoints = Model( inputs= X_input, outputs = X)\n",
        "model_1_facialKeyPoints.summary()"
      ],
      "execution_count": 22,
      "outputs": [
        {
          "output_type": "stream",
          "text": [
            "Model: \"model\"\n",
            "__________________________________________________________________________________________________\n",
            "Layer (type)                    Output Shape         Param #     Connected to                     \n",
            "==================================================================================================\n",
            "input_1 (InputLayer)            [(None, 96, 96, 1)]  0                                            \n",
            "__________________________________________________________________________________________________\n",
            "zero_padding2d (ZeroPadding2D)  (None, 102, 102, 1)  0           input_1[0][0]                    \n",
            "__________________________________________________________________________________________________\n",
            "conv1 (Conv2D)                  (None, 48, 48, 64)   3200        zero_padding2d[0][0]             \n",
            "__________________________________________________________________________________________________\n",
            "bn_conv1 (BatchNormalization)   (None, 48, 48, 64)   256         conv1[0][0]                      \n",
            "__________________________________________________________________________________________________\n",
            "activation (Activation)         (None, 48, 48, 64)   0           bn_conv1[0][0]                   \n",
            "__________________________________________________________________________________________________\n",
            "max_pooling2d (MaxPooling2D)    (None, 23, 23, 64)   0           activation[0][0]                 \n",
            "__________________________________________________________________________________________________\n",
            "res_2_conv_a (Conv2D)           (None, 23, 23, 64)   4160        max_pooling2d[0][0]              \n",
            "__________________________________________________________________________________________________\n",
            "max_pooling2d_1 (MaxPooling2D)  (None, 11, 11, 64)   0           res_2_conv_a[0][0]               \n",
            "__________________________________________________________________________________________________\n",
            "bn_2_conv_a (BatchNormalization (None, 11, 11, 64)   256         max_pooling2d_1[0][0]            \n",
            "__________________________________________________________________________________________________\n",
            "activation_1 (Activation)       (None, 11, 11, 64)   0           bn_2_conv_a[0][0]                \n",
            "__________________________________________________________________________________________________\n",
            "res_2_conv_b (Conv2D)           (None, 11, 11, 64)   36928       activation_1[0][0]               \n",
            "__________________________________________________________________________________________________\n",
            "bn_2_conv_b (BatchNormalization (None, 11, 11, 64)   256         res_2_conv_b[0][0]               \n",
            "__________________________________________________________________________________________________\n",
            "activation_2 (Activation)       (None, 11, 11, 64)   0           bn_2_conv_b[0][0]                \n",
            "__________________________________________________________________________________________________\n",
            "res_2_conv_copy (Conv2D)        (None, 23, 23, 256)  16640       max_pooling2d[0][0]              \n",
            "__________________________________________________________________________________________________\n",
            "res_2_conv_c (Conv2D)           (None, 11, 11, 256)  16640       activation_2[0][0]               \n",
            "__________________________________________________________________________________________________\n",
            "max_pooling2d_2 (MaxPooling2D)  (None, 11, 11, 256)  0           res_2_conv_copy[0][0]            \n",
            "__________________________________________________________________________________________________\n",
            "bn_2_conv_c (BatchNormalization (None, 11, 11, 256)  1024        res_2_conv_c[0][0]               \n",
            "__________________________________________________________________________________________________\n",
            "bn_2_conv_copy (BatchNormalizat (None, 11, 11, 256)  1024        max_pooling2d_2[0][0]            \n",
            "__________________________________________________________________________________________________\n",
            "add (Add)                       (None, 11, 11, 256)  0           bn_2_conv_c[0][0]                \n",
            "                                                                 bn_2_conv_copy[0][0]             \n",
            "__________________________________________________________________________________________________\n",
            "activation_3 (Activation)       (None, 11, 11, 256)  0           add[0][0]                        \n",
            "__________________________________________________________________________________________________\n",
            "res_2_identity_1_a (Conv2D)     (None, 11, 11, 64)   16448       activation_3[0][0]               \n",
            "__________________________________________________________________________________________________\n",
            "bn_2_identity_1_a (BatchNormali (None, 11, 11, 64)   256         res_2_identity_1_a[0][0]         \n",
            "__________________________________________________________________________________________________\n",
            "activation_4 (Activation)       (None, 11, 11, 64)   0           bn_2_identity_1_a[0][0]          \n",
            "__________________________________________________________________________________________________\n",
            "res_2_identity_1_b (Conv2D)     (None, 11, 11, 64)   36928       activation_4[0][0]               \n",
            "__________________________________________________________________________________________________\n",
            "bn_2_identity_1_b (BatchNormali (None, 11, 11, 64)   256         res_2_identity_1_b[0][0]         \n",
            "__________________________________________________________________________________________________\n",
            "activation_5 (Activation)       (None, 11, 11, 64)   0           bn_2_identity_1_b[0][0]          \n",
            "__________________________________________________________________________________________________\n",
            "res_2_identity_1_c (Conv2D)     (None, 11, 11, 256)  16640       activation_5[0][0]               \n",
            "__________________________________________________________________________________________________\n",
            "bn_2_identity_1_c (BatchNormali (None, 11, 11, 256)  1024        res_2_identity_1_c[0][0]         \n",
            "__________________________________________________________________________________________________\n",
            "add_1 (Add)                     (None, 11, 11, 256)  0           bn_2_identity_1_c[0][0]          \n",
            "                                                                 activation_3[0][0]               \n",
            "__________________________________________________________________________________________________\n",
            "activation_6 (Activation)       (None, 11, 11, 256)  0           add_1[0][0]                      \n",
            "__________________________________________________________________________________________________\n",
            "res_2_identity_2_a (Conv2D)     (None, 11, 11, 64)   16448       activation_6[0][0]               \n",
            "__________________________________________________________________________________________________\n",
            "bn_2_identity_2_a (BatchNormali (None, 11, 11, 64)   256         res_2_identity_2_a[0][0]         \n",
            "__________________________________________________________________________________________________\n",
            "activation_7 (Activation)       (None, 11, 11, 64)   0           bn_2_identity_2_a[0][0]          \n",
            "__________________________________________________________________________________________________\n",
            "res_2_identity_2_b (Conv2D)     (None, 11, 11, 64)   36928       activation_7[0][0]               \n",
            "__________________________________________________________________________________________________\n",
            "bn_2_identity_2_b (BatchNormali (None, 11, 11, 64)   256         res_2_identity_2_b[0][0]         \n",
            "__________________________________________________________________________________________________\n",
            "activation_8 (Activation)       (None, 11, 11, 64)   0           bn_2_identity_2_b[0][0]          \n",
            "__________________________________________________________________________________________________\n",
            "res_2_identity_2_c (Conv2D)     (None, 11, 11, 256)  16640       activation_8[0][0]               \n",
            "__________________________________________________________________________________________________\n",
            "bn_2_identity_2_c (BatchNormali (None, 11, 11, 256)  1024        res_2_identity_2_c[0][0]         \n",
            "__________________________________________________________________________________________________\n",
            "add_2 (Add)                     (None, 11, 11, 256)  0           bn_2_identity_2_c[0][0]          \n",
            "                                                                 activation_6[0][0]               \n",
            "__________________________________________________________________________________________________\n",
            "activation_9 (Activation)       (None, 11, 11, 256)  0           add_2[0][0]                      \n",
            "__________________________________________________________________________________________________\n",
            "res_3_conv_a (Conv2D)           (None, 11, 11, 128)  32896       activation_9[0][0]               \n",
            "__________________________________________________________________________________________________\n",
            "max_pooling2d_3 (MaxPooling2D)  (None, 5, 5, 128)    0           res_3_conv_a[0][0]               \n",
            "__________________________________________________________________________________________________\n",
            "bn_3_conv_a (BatchNormalization (None, 5, 5, 128)    512         max_pooling2d_3[0][0]            \n",
            "__________________________________________________________________________________________________\n",
            "activation_10 (Activation)      (None, 5, 5, 128)    0           bn_3_conv_a[0][0]                \n",
            "__________________________________________________________________________________________________\n",
            "res_3_conv_b (Conv2D)           (None, 5, 5, 128)    147584      activation_10[0][0]              \n",
            "__________________________________________________________________________________________________\n",
            "bn_3_conv_b (BatchNormalization (None, 5, 5, 128)    512         res_3_conv_b[0][0]               \n",
            "__________________________________________________________________________________________________\n",
            "activation_11 (Activation)      (None, 5, 5, 128)    0           bn_3_conv_b[0][0]                \n",
            "__________________________________________________________________________________________________\n",
            "res_3_conv_copy (Conv2D)        (None, 11, 11, 512)  131584      activation_9[0][0]               \n",
            "__________________________________________________________________________________________________\n",
            "res_3_conv_c (Conv2D)           (None, 5, 5, 512)    66048       activation_11[0][0]              \n",
            "__________________________________________________________________________________________________\n",
            "max_pooling2d_4 (MaxPooling2D)  (None, 5, 5, 512)    0           res_3_conv_copy[0][0]            \n",
            "__________________________________________________________________________________________________\n",
            "bn_3_conv_c (BatchNormalization (None, 5, 5, 512)    2048        res_3_conv_c[0][0]               \n",
            "__________________________________________________________________________________________________\n",
            "bn_3_conv_copy (BatchNormalizat (None, 5, 5, 512)    2048        max_pooling2d_4[0][0]            \n",
            "__________________________________________________________________________________________________\n",
            "add_3 (Add)                     (None, 5, 5, 512)    0           bn_3_conv_c[0][0]                \n",
            "                                                                 bn_3_conv_copy[0][0]             \n",
            "__________________________________________________________________________________________________\n",
            "activation_12 (Activation)      (None, 5, 5, 512)    0           add_3[0][0]                      \n",
            "__________________________________________________________________________________________________\n",
            "res_3_identity_1_a (Conv2D)     (None, 5, 5, 128)    65664       activation_12[0][0]              \n",
            "__________________________________________________________________________________________________\n",
            "bn_3_identity_1_a (BatchNormali (None, 5, 5, 128)    512         res_3_identity_1_a[0][0]         \n",
            "__________________________________________________________________________________________________\n",
            "activation_13 (Activation)      (None, 5, 5, 128)    0           bn_3_identity_1_a[0][0]          \n",
            "__________________________________________________________________________________________________\n",
            "res_3_identity_1_b (Conv2D)     (None, 5, 5, 128)    147584      activation_13[0][0]              \n",
            "__________________________________________________________________________________________________\n",
            "bn_3_identity_1_b (BatchNormali (None, 5, 5, 128)    512         res_3_identity_1_b[0][0]         \n",
            "__________________________________________________________________________________________________\n",
            "activation_14 (Activation)      (None, 5, 5, 128)    0           bn_3_identity_1_b[0][0]          \n",
            "__________________________________________________________________________________________________\n",
            "res_3_identity_1_c (Conv2D)     (None, 5, 5, 512)    66048       activation_14[0][0]              \n",
            "__________________________________________________________________________________________________\n",
            "bn_3_identity_1_c (BatchNormali (None, 5, 5, 512)    2048        res_3_identity_1_c[0][0]         \n",
            "__________________________________________________________________________________________________\n",
            "add_4 (Add)                     (None, 5, 5, 512)    0           bn_3_identity_1_c[0][0]          \n",
            "                                                                 activation_12[0][0]              \n",
            "__________________________________________________________________________________________________\n",
            "activation_15 (Activation)      (None, 5, 5, 512)    0           add_4[0][0]                      \n",
            "__________________________________________________________________________________________________\n",
            "res_3_identity_2_a (Conv2D)     (None, 5, 5, 128)    65664       activation_15[0][0]              \n",
            "__________________________________________________________________________________________________\n",
            "bn_3_identity_2_a (BatchNormali (None, 5, 5, 128)    512         res_3_identity_2_a[0][0]         \n",
            "__________________________________________________________________________________________________\n",
            "activation_16 (Activation)      (None, 5, 5, 128)    0           bn_3_identity_2_a[0][0]          \n",
            "__________________________________________________________________________________________________\n",
            "res_3_identity_2_b (Conv2D)     (None, 5, 5, 128)    147584      activation_16[0][0]              \n",
            "__________________________________________________________________________________________________\n",
            "bn_3_identity_2_b (BatchNormali (None, 5, 5, 128)    512         res_3_identity_2_b[0][0]         \n",
            "__________________________________________________________________________________________________\n",
            "activation_17 (Activation)      (None, 5, 5, 128)    0           bn_3_identity_2_b[0][0]          \n",
            "__________________________________________________________________________________________________\n",
            "res_3_identity_2_c (Conv2D)     (None, 5, 5, 512)    66048       activation_17[0][0]              \n",
            "__________________________________________________________________________________________________\n",
            "bn_3_identity_2_c (BatchNormali (None, 5, 5, 512)    2048        res_3_identity_2_c[0][0]         \n",
            "__________________________________________________________________________________________________\n",
            "add_5 (Add)                     (None, 5, 5, 512)    0           bn_3_identity_2_c[0][0]          \n",
            "                                                                 activation_15[0][0]              \n",
            "__________________________________________________________________________________________________\n",
            "activation_18 (Activation)      (None, 5, 5, 512)    0           add_5[0][0]                      \n",
            "__________________________________________________________________________________________________\n",
            "Averagea_Pooling (AveragePoolin (None, 2, 2, 512)    0           activation_18[0][0]              \n",
            "__________________________________________________________________________________________________\n",
            "flatten (Flatten)               (None, 2048)         0           Averagea_Pooling[0][0]           \n",
            "__________________________________________________________________________________________________\n",
            "dense (Dense)                   (None, 4096)         8392704     flatten[0][0]                    \n",
            "__________________________________________________________________________________________________\n",
            "dropout (Dropout)               (None, 4096)         0           dense[0][0]                      \n",
            "__________________________________________________________________________________________________\n",
            "dense_1 (Dense)                 (None, 2048)         8390656     dropout[0][0]                    \n",
            "__________________________________________________________________________________________________\n",
            "dropout_1 (Dropout)             (None, 2048)         0           dense_1[0][0]                    \n",
            "__________________________________________________________________________________________________\n",
            "dense_2 (Dense)                 (None, 30)           61470       dropout_1[0][0]                  \n",
            "==================================================================================================\n",
            "Total params: 18,016,286\n",
            "Trainable params: 18,007,710\n",
            "Non-trainable params: 8,576\n",
            "__________________________________________________________________________________________________\n"
          ],
          "name": "stdout"
        }
      ]
    },
    {
      "cell_type": "code",
      "metadata": {
        "id": "H4zpJEpkj3n3"
      },
      "source": [
        "adam = tf.keras.optimizers.Adam(learning_rate = 0.0001, beta_1 = 0.9, beta_2 = 0.999, amsgrad = False)\n",
        "model_1_facialKeyPoints.compile(loss = \"mean_squared_error\", optimizer = adam , metrics = ['accuracy'])\n"
      ],
      "execution_count": 23,
      "outputs": []
    },
    {
      "cell_type": "code",
      "metadata": {
        "id": "_aLtvAqIk7Lt"
      },
      "source": [
        "# save the best model with least validation loss\n",
        "checkpointer = ModelCheckpoint(filepath = \"/content/drive/MyDrive/Image emotion with key points/FacialKeyPoints_weights.hdf5\", verbose = 1, save_best_only = True)"
      ],
      "execution_count": 24,
      "outputs": []
    },
    {
      "cell_type": "code",
      "metadata": {
        "colab": {
          "base_uri": "https://localhost:8080/"
        },
        "id": "Rh8kJYMMk_ft",
        "outputId": "45b571c2-3939-424a-cb77-352940c295d8"
      },
      "source": [
        "history = model_1_facialKeyPoints.fit(X_train, y_train, batch_size = 32, epochs = 60, validation_split = 0.05, callbacks=[checkpointer])"
      ],
      "execution_count": 26,
      "outputs": [
        {
          "output_type": "stream",
          "text": [
            "Epoch 1/60\n",
            "172/172 [==============================] - 4s 22ms/step - loss: 91.3280 - accuracy: 0.5948 - val_loss: 124.3250 - val_accuracy: 0.6920\n",
            "\n",
            "Epoch 00001: val_loss improved from 216.69257 to 124.32500, saving model to /content/drive/MyDrive/Image emotion with key points/FacialKeyPoints_weights.hdf5\n"
          ],
          "name": "stdout"
        },
        {
          "output_type": "stream",
          "text": [
            "/usr/local/lib/python3.7/dist-packages/tensorflow/python/keras/utils/generic_utils.py:497: CustomMaskWarning: Custom mask layers require a config and must override get_config. When loading, the custom mask layer must be passed to the custom_objects argument.\n",
            "  category=CustomMaskWarning)\n"
          ],
          "name": "stderr"
        },
        {
          "output_type": "stream",
          "text": [
            "Epoch 2/60\n",
            "172/172 [==============================] - 4s 21ms/step - loss: 84.2014 - accuracy: 0.5910 - val_loss: 166.1635 - val_accuracy: 0.7405\n",
            "\n",
            "Epoch 00002: val_loss did not improve from 124.32500\n",
            "Epoch 3/60\n",
            "172/172 [==============================] - 4s 23ms/step - loss: 78.8366 - accuracy: 0.6110 - val_loss: 119.8656 - val_accuracy: 0.7232\n",
            "\n",
            "Epoch 00003: val_loss improved from 124.32500 to 119.86563, saving model to /content/drive/MyDrive/Image emotion with key points/FacialKeyPoints_weights.hdf5\n",
            "Epoch 4/60\n",
            "172/172 [==============================] - 4s 22ms/step - loss: 72.9118 - accuracy: 0.6187 - val_loss: 118.7592 - val_accuracy: 0.6886\n",
            "\n",
            "Epoch 00004: val_loss improved from 119.86563 to 118.75916, saving model to /content/drive/MyDrive/Image emotion with key points/FacialKeyPoints_weights.hdf5\n",
            "Epoch 5/60\n",
            "172/172 [==============================] - 4s 22ms/step - loss: 69.8572 - accuracy: 0.6201 - val_loss: 127.9405 - val_accuracy: 0.7543\n",
            "\n",
            "Epoch 00005: val_loss did not improve from 118.75916\n",
            "Epoch 6/60\n",
            "172/172 [==============================] - 4s 22ms/step - loss: 68.9087 - accuracy: 0.6205 - val_loss: 125.3181 - val_accuracy: 0.7336\n",
            "\n",
            "Epoch 00006: val_loss did not improve from 118.75916\n",
            "Epoch 7/60\n",
            "172/172 [==============================] - 4s 25ms/step - loss: 67.7717 - accuracy: 0.6493 - val_loss: 122.6198 - val_accuracy: 0.6298\n",
            "\n",
            "Epoch 00007: val_loss did not improve from 118.75916\n",
            "Epoch 8/60\n",
            "172/172 [==============================] - 4s 22ms/step - loss: 63.6241 - accuracy: 0.6416 - val_loss: 84.0873 - val_accuracy: 0.7059\n",
            "\n",
            "Epoch 00008: val_loss improved from 118.75916 to 84.08727, saving model to /content/drive/MyDrive/Image emotion with key points/FacialKeyPoints_weights.hdf5\n",
            "Epoch 9/60\n",
            "172/172 [==============================] - 4s 22ms/step - loss: 19.1287 - accuracy: 0.6486 - val_loss: 102.1805 - val_accuracy: 0.7405\n",
            "\n",
            "Epoch 00009: val_loss did not improve from 84.08727\n",
            "Epoch 10/60\n",
            "172/172 [==============================] - 4s 22ms/step - loss: 15.6880 - accuracy: 0.6489 - val_loss: 63.3470 - val_accuracy: 0.7543\n",
            "\n",
            "Epoch 00010: val_loss improved from 84.08727 to 63.34700, saving model to /content/drive/MyDrive/Image emotion with key points/FacialKeyPoints_weights.hdf5\n",
            "Epoch 11/60\n",
            "172/172 [==============================] - 4s 22ms/step - loss: 14.5530 - accuracy: 0.6586 - val_loss: 78.3431 - val_accuracy: 0.7509\n",
            "\n",
            "Epoch 00011: val_loss did not improve from 63.34700\n",
            "Epoch 12/60\n",
            "172/172 [==============================] - 4s 24ms/step - loss: 13.3163 - accuracy: 0.6628 - val_loss: 64.4412 - val_accuracy: 0.7439\n",
            "\n",
            "Epoch 00012: val_loss did not improve from 63.34700\n",
            "Epoch 13/60\n",
            "172/172 [==============================] - 4s 22ms/step - loss: 14.3721 - accuracy: 0.6679 - val_loss: 74.0280 - val_accuracy: 0.7163\n",
            "\n",
            "Epoch 00013: val_loss did not improve from 63.34700\n",
            "Epoch 14/60\n",
            "172/172 [==============================] - 4s 22ms/step - loss: 14.1409 - accuracy: 0.6764 - val_loss: 77.0238 - val_accuracy: 0.7543\n",
            "\n",
            "Epoch 00014: val_loss did not improve from 63.34700\n",
            "Epoch 15/60\n",
            "172/172 [==============================] - 4s 22ms/step - loss: 14.8960 - accuracy: 0.6817 - val_loss: 82.7514 - val_accuracy: 0.6782\n",
            "\n",
            "Epoch 00015: val_loss did not improve from 63.34700\n",
            "Epoch 16/60\n",
            "172/172 [==============================] - 4s 22ms/step - loss: 13.3262 - accuracy: 0.6699 - val_loss: 68.9703 - val_accuracy: 0.7474\n",
            "\n",
            "Epoch 00016: val_loss did not improve from 63.34700\n",
            "Epoch 17/60\n",
            "172/172 [==============================] - 4s 22ms/step - loss: 11.4293 - accuracy: 0.6784 - val_loss: 70.4097 - val_accuracy: 0.7128\n",
            "\n",
            "Epoch 00017: val_loss did not improve from 63.34700\n",
            "Epoch 18/60\n",
            "172/172 [==============================] - 4s 22ms/step - loss: 12.7803 - accuracy: 0.6792 - val_loss: 70.5282 - val_accuracy: 0.7024\n",
            "\n",
            "Epoch 00018: val_loss did not improve from 63.34700\n",
            "Epoch 19/60\n",
            "172/172 [==============================] - 4s 22ms/step - loss: 11.8355 - accuracy: 0.6885 - val_loss: 67.5736 - val_accuracy: 0.7197\n",
            "\n",
            "Epoch 00019: val_loss did not improve from 63.34700\n",
            "Epoch 20/60\n",
            "172/172 [==============================] - 4s 22ms/step - loss: 14.6003 - accuracy: 0.6772 - val_loss: 113.8270 - val_accuracy: 0.7024\n",
            "\n",
            "Epoch 00020: val_loss did not improve from 63.34700\n",
            "Epoch 21/60\n",
            "172/172 [==============================] - 4s 22ms/step - loss: 13.7029 - accuracy: 0.6846 - val_loss: 69.3348 - val_accuracy: 0.6990\n",
            "\n",
            "Epoch 00021: val_loss did not improve from 63.34700\n",
            "Epoch 22/60\n",
            "172/172 [==============================] - 4s 22ms/step - loss: 11.8366 - accuracy: 0.6945 - val_loss: 71.0003 - val_accuracy: 0.7266\n",
            "\n",
            "Epoch 00022: val_loss did not improve from 63.34700\n",
            "Epoch 23/60\n",
            "172/172 [==============================] - 4s 22ms/step - loss: 10.5133 - accuracy: 0.6945 - val_loss: 70.2100 - val_accuracy: 0.7059\n",
            "\n",
            "Epoch 00023: val_loss did not improve from 63.34700\n",
            "Epoch 24/60\n",
            "172/172 [==============================] - 4s 22ms/step - loss: 11.7248 - accuracy: 0.6912 - val_loss: 74.3011 - val_accuracy: 0.7474\n",
            "\n",
            "Epoch 00024: val_loss did not improve from 63.34700\n",
            "Epoch 25/60\n",
            "172/172 [==============================] - 4s 22ms/step - loss: 10.5620 - accuracy: 0.6994 - val_loss: 68.9428 - val_accuracy: 0.7405\n",
            "\n",
            "Epoch 00025: val_loss did not improve from 63.34700\n",
            "Epoch 26/60\n",
            "172/172 [==============================] - 4s 22ms/step - loss: 9.2171 - accuracy: 0.7136 - val_loss: 68.6072 - val_accuracy: 0.7163\n",
            "\n",
            "Epoch 00026: val_loss did not improve from 63.34700\n",
            "Epoch 27/60\n",
            "172/172 [==============================] - 4s 22ms/step - loss: 12.4493 - accuracy: 0.6965 - val_loss: 57.0342 - val_accuracy: 0.7370\n",
            "\n",
            "Epoch 00027: val_loss improved from 63.34700 to 57.03416, saving model to /content/drive/MyDrive/Image emotion with key points/FacialKeyPoints_weights.hdf5\n",
            "Epoch 28/60\n",
            "172/172 [==============================] - 4s 22ms/step - loss: 11.6257 - accuracy: 0.7081 - val_loss: 56.1038 - val_accuracy: 0.7163\n",
            "\n",
            "Epoch 00028: val_loss improved from 57.03416 to 56.10376, saving model to /content/drive/MyDrive/Image emotion with key points/FacialKeyPoints_weights.hdf5\n",
            "Epoch 29/60\n",
            "172/172 [==============================] - 4s 21ms/step - loss: 8.7055 - accuracy: 0.7120 - val_loss: 68.0359 - val_accuracy: 0.7059\n",
            "\n",
            "Epoch 00029: val_loss did not improve from 56.10376\n",
            "Epoch 30/60\n",
            "172/172 [==============================] - 4s 22ms/step - loss: 10.0059 - accuracy: 0.7156 - val_loss: 69.9616 - val_accuracy: 0.7405\n",
            "\n",
            "Epoch 00030: val_loss did not improve from 56.10376\n",
            "Epoch 31/60\n",
            "172/172 [==============================] - 4s 23ms/step - loss: 11.4877 - accuracy: 0.7147 - val_loss: 66.7849 - val_accuracy: 0.7163\n",
            "\n",
            "Epoch 00031: val_loss did not improve from 56.10376\n",
            "Epoch 32/60\n",
            "172/172 [==============================] - 4s 22ms/step - loss: 9.8353 - accuracy: 0.7189 - val_loss: 70.7473 - val_accuracy: 0.7509\n",
            "\n",
            "Epoch 00032: val_loss did not improve from 56.10376\n",
            "Epoch 33/60\n",
            "172/172 [==============================] - 4s 22ms/step - loss: 9.8767 - accuracy: 0.7069 - val_loss: 78.8423 - val_accuracy: 0.7163\n",
            "\n",
            "Epoch 00033: val_loss did not improve from 56.10376\n",
            "Epoch 34/60\n",
            "172/172 [==============================] - 4s 22ms/step - loss: 9.9147 - accuracy: 0.7202 - val_loss: 65.9458 - val_accuracy: 0.7059\n",
            "\n",
            "Epoch 00034: val_loss did not improve from 56.10376\n",
            "Epoch 35/60\n",
            "172/172 [==============================] - 4s 22ms/step - loss: 9.6969 - accuracy: 0.7189 - val_loss: 73.1990 - val_accuracy: 0.6886\n",
            "\n",
            "Epoch 00035: val_loss did not improve from 56.10376\n",
            "Epoch 36/60\n",
            "172/172 [==============================] - 4s 22ms/step - loss: 10.2950 - accuracy: 0.7202 - val_loss: 56.6145 - val_accuracy: 0.7405\n",
            "\n",
            "Epoch 00036: val_loss did not improve from 56.10376\n",
            "Epoch 37/60\n",
            "172/172 [==============================] - 4s 22ms/step - loss: 8.5215 - accuracy: 0.7178 - val_loss: 66.7614 - val_accuracy: 0.7197\n",
            "\n",
            "Epoch 00037: val_loss did not improve from 56.10376\n",
            "Epoch 38/60\n",
            "172/172 [==============================] - 4s 22ms/step - loss: 9.5656 - accuracy: 0.7160 - val_loss: 55.3218 - val_accuracy: 0.7370\n",
            "\n",
            "Epoch 00038: val_loss improved from 56.10376 to 55.32178, saving model to /content/drive/MyDrive/Image emotion with key points/FacialKeyPoints_weights.hdf5\n",
            "Epoch 39/60\n",
            "172/172 [==============================] - 4s 22ms/step - loss: 8.8911 - accuracy: 0.7275 - val_loss: 70.9384 - val_accuracy: 0.7370\n",
            "\n",
            "Epoch 00039: val_loss did not improve from 55.32178\n",
            "Epoch 40/60\n",
            "172/172 [==============================] - 4s 22ms/step - loss: 8.3483 - accuracy: 0.7240 - val_loss: 66.1127 - val_accuracy: 0.7024\n",
            "\n",
            "Epoch 00040: val_loss did not improve from 55.32178\n",
            "Epoch 41/60\n",
            "172/172 [==============================] - 4s 25ms/step - loss: 9.7264 - accuracy: 0.7209 - val_loss: 74.2676 - val_accuracy: 0.7301\n",
            "\n",
            "Epoch 00041: val_loss did not improve from 55.32178\n",
            "Epoch 42/60\n",
            "172/172 [==============================] - 4s 22ms/step - loss: 10.1516 - accuracy: 0.7245 - val_loss: 105.5661 - val_accuracy: 0.6574\n",
            "\n",
            "Epoch 00042: val_loss did not improve from 55.32178\n",
            "Epoch 43/60\n",
            "172/172 [==============================] - 4s 22ms/step - loss: 7.5879 - accuracy: 0.7309 - val_loss: 75.2036 - val_accuracy: 0.7682\n",
            "\n",
            "Epoch 00043: val_loss did not improve from 55.32178\n",
            "Epoch 44/60\n",
            "172/172 [==============================] - 4s 22ms/step - loss: 7.2599 - accuracy: 0.7275 - val_loss: 65.8923 - val_accuracy: 0.7682\n",
            "\n",
            "Epoch 00044: val_loss did not improve from 55.32178\n",
            "Epoch 45/60\n",
            "172/172 [==============================] - 4s 22ms/step - loss: 9.6528 - accuracy: 0.7191 - val_loss: 67.4204 - val_accuracy: 0.7336\n",
            "\n",
            "Epoch 00045: val_loss did not improve from 55.32178\n",
            "Epoch 46/60\n",
            "172/172 [==============================] - 4s 22ms/step - loss: 6.6701 - accuracy: 0.7397 - val_loss: 78.9827 - val_accuracy: 0.7578\n",
            "\n",
            "Epoch 00046: val_loss did not improve from 55.32178\n",
            "Epoch 47/60\n",
            "172/172 [==============================] - 4s 22ms/step - loss: 7.9223 - accuracy: 0.7322 - val_loss: 67.4878 - val_accuracy: 0.7370\n",
            "\n",
            "Epoch 00047: val_loss did not improve from 55.32178\n",
            "Epoch 48/60\n",
            "172/172 [==============================] - 4s 22ms/step - loss: 8.7311 - accuracy: 0.7378 - val_loss: 64.2147 - val_accuracy: 0.7439\n",
            "\n",
            "Epoch 00048: val_loss did not improve from 55.32178\n",
            "Epoch 49/60\n",
            "172/172 [==============================] - 4s 22ms/step - loss: 7.7639 - accuracy: 0.7353 - val_loss: 55.0668 - val_accuracy: 0.6990\n",
            "\n",
            "Epoch 00049: val_loss improved from 55.32178 to 55.06682, saving model to /content/drive/MyDrive/Image emotion with key points/FacialKeyPoints_weights.hdf5\n",
            "Epoch 50/60\n",
            "172/172 [==============================] - 4s 22ms/step - loss: 7.5375 - accuracy: 0.7408 - val_loss: 50.7449 - val_accuracy: 0.7405\n",
            "\n",
            "Epoch 00050: val_loss improved from 55.06682 to 50.74486, saving model to /content/drive/MyDrive/Image emotion with key points/FacialKeyPoints_weights.hdf5\n",
            "Epoch 51/60\n",
            "172/172 [==============================] - 4s 22ms/step - loss: 8.9055 - accuracy: 0.7256 - val_loss: 60.3498 - val_accuracy: 0.7509\n",
            "\n",
            "Epoch 00051: val_loss did not improve from 50.74486\n",
            "Epoch 52/60\n",
            "172/172 [==============================] - 4s 22ms/step - loss: 6.4376 - accuracy: 0.7397 - val_loss: 51.8272 - val_accuracy: 0.7682\n",
            "\n",
            "Epoch 00052: val_loss did not improve from 50.74486\n",
            "Epoch 53/60\n",
            "172/172 [==============================] - 4s 24ms/step - loss: 6.8723 - accuracy: 0.7508 - val_loss: 63.5818 - val_accuracy: 0.7370\n",
            "\n",
            "Epoch 00053: val_loss did not improve from 50.74486\n",
            "Epoch 54/60\n",
            "172/172 [==============================] - 4s 22ms/step - loss: 6.2766 - accuracy: 0.7502 - val_loss: 64.3608 - val_accuracy: 0.7405\n",
            "\n",
            "Epoch 00054: val_loss did not improve from 50.74486\n",
            "Epoch 55/60\n",
            "172/172 [==============================] - 4s 22ms/step - loss: 8.7502 - accuracy: 0.7347 - val_loss: 69.2454 - val_accuracy: 0.7128\n",
            "\n",
            "Epoch 00055: val_loss did not improve from 50.74486\n",
            "Epoch 56/60\n",
            "172/172 [==============================] - 4s 22ms/step - loss: 8.1324 - accuracy: 0.7382 - val_loss: 73.3320 - val_accuracy: 0.7197\n",
            "\n",
            "Epoch 00056: val_loss did not improve from 50.74486\n",
            "Epoch 57/60\n",
            "172/172 [==============================] - 4s 22ms/step - loss: 10.2645 - accuracy: 0.7304 - val_loss: 67.4430 - val_accuracy: 0.7439\n",
            "\n",
            "Epoch 00057: val_loss did not improve from 50.74486\n",
            "Epoch 58/60\n",
            "172/172 [==============================] - 4s 22ms/step - loss: 8.2380 - accuracy: 0.7377 - val_loss: 56.8924 - val_accuracy: 0.6990\n",
            "\n",
            "Epoch 00058: val_loss did not improve from 50.74486\n",
            "Epoch 59/60\n",
            "172/172 [==============================] - 4s 22ms/step - loss: 7.8467 - accuracy: 0.7402 - val_loss: 77.3724 - val_accuracy: 0.7405\n",
            "\n",
            "Epoch 00059: val_loss did not improve from 50.74486\n",
            "Epoch 60/60\n",
            "172/172 [==============================] - 4s 22ms/step - loss: 7.3659 - accuracy: 0.7459 - val_loss: 42.1991 - val_accuracy: 0.7578\n",
            "\n",
            "Epoch 00060: val_loss improved from 50.74486 to 42.19909, saving model to /content/drive/MyDrive/Image emotion with key points/FacialKeyPoints_weights.hdf5\n"
          ],
          "name": "stdout"
        }
      ]
    },
    {
      "cell_type": "code",
      "metadata": {
        "id": "nVOLGLaV3a42"
      },
      "source": [
        "with open('/content/drive/MyDrive/Image emotion with key points/detection.json', 'r') as json_file:\n",
        "    json_savedModel= json_file.read()\n",
        "    \n",
        "# load the model architecture \n",
        "model_1_facialKeyPoints = tf.keras.models.model_from_json(json_savedModel)\n",
        "model_1_facialKeyPoints.load_weights('/content/drive/MyDrive/Image emotion with key points/FacialKeyPoints_weights.hdf5')\n",
        "adam = tf.keras.optimizers.Adam(learning_rate=0.0001, beta_1=0.9, beta_2=0.999, amsgrad=False)\n",
        "model_1_facialKeyPoints.compile(loss=\"mean_squared_error\", optimizer= adam , metrics = ['accuracy'])"
      ],
      "execution_count": 28,
      "outputs": []
    },
    {
      "cell_type": "code",
      "metadata": {
        "colab": {
          "base_uri": "https://localhost:8080/"
        },
        "id": "gFPv7TVl3xSA",
        "outputId": "7b668dcc-0d35-4c51-acc6-bc26a0d44946"
      },
      "source": [
        "result = model_1_facialKeyPoints.evaluate(X_test, y_test)\n",
        "print(\"Accuracy : {}\".format(result[1]))"
      ],
      "execution_count": 29,
      "outputs": [
        {
          "output_type": "stream",
          "text": [
            "21/21 [==============================] - 1s 18ms/step - loss: 68.7655 - accuracy: 0.7025\n",
            "Accuracy : 0.7024922370910645\n"
          ],
          "name": "stdout"
        }
      ]
    },
    {
      "cell_type": "code",
      "metadata": {
        "colab": {
          "base_uri": "https://localhost:8080/"
        },
        "id": "ixtENfVs4EGq",
        "outputId": "8cb78c92-09a8-494c-bb11-b567011f6500"
      },
      "source": [
        "history.history.keys()"
      ],
      "execution_count": 30,
      "outputs": [
        {
          "output_type": "execute_result",
          "data": {
            "text/plain": [
              "dict_keys(['loss', 'accuracy', 'val_loss', 'val_accuracy'])"
            ]
          },
          "metadata": {
            "tags": []
          },
          "execution_count": 30
        }
      ]
    },
    {
      "cell_type": "code",
      "metadata": {
        "colab": {
          "base_uri": "https://localhost:8080/",
          "height": 295
        },
        "id": "v-l_i5DF4Irs",
        "outputId": "eb2bae7f-21b5-403d-d7c7-bf209139efc7"
      },
      "source": [
        "plt.plot(history.history['loss'])\n",
        "plt.plot(history.history['val_loss'])\n",
        "plt.title('Model loss')\n",
        "plt.ylabel('loss')\n",
        "plt.xlabel('epoch')\n",
        "plt.legend(['train_loss','val_loss'], loc = 'upper right')\n",
        "plt.show()"
      ],
      "execution_count": 31,
      "outputs": [
        {
          "output_type": "display_data",
          "data": {
            "image/png": "[encoded data removed]",
            "text/plain": [
              "<Figure size 432x288 with 1 Axes>"
            ]
          },
          "metadata": {
            "tags": [],
            "needs_background": "light"
          }
        }
      ]
    }
  ]
}