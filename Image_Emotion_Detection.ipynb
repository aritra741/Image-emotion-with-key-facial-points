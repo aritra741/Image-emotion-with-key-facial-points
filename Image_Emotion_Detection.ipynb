{
  "nbformat": 4,
  "nbformat_minor": 0,
  "metadata": {
    "colab": {
      "name": "Image Emotion Detection.ipynb",
      "provenance": [],
      "collapsed_sections": []
    },
    "kernelspec": {
      "name": "python3",
      "display_name": "Python 3"
    },
    "language_info": {
      "name": "python"
    },
    "accelerator": "GPU"
  },
  "cells": [
    {
      "cell_type": "markdown",
      "metadata": {
        "id": "-di_Wk-MFqY8"
      },
      "source": [
        "## **Face key points detection**"
      ]
    },
    {
      "cell_type": "code",
      "metadata": {
        "id": "w6IYiqvCFxFy"
      },
      "source": [
        "import pandas as pd\n",
        "import numpy as np\n",
        "import os\n",
        "import PIL\n",
        "import seaborn as sns\n",
        "import pickle\n",
        "from PIL import *\n",
        "import cv2\n",
        "import tensorflow as tf\n",
        "from tensorflow import keras\n",
        "from tensorflow.keras.applications import DenseNet121\n",
        "from tensorflow.keras.models import Model, load_model\n",
        "from tensorflow.keras.initializers import glorot_uniform\n",
        "from tensorflow.keras.utils import plot_model\n",
        "from tensorflow.keras.callbacks import ReduceLROnPlateau, EarlyStopping, ModelCheckpoint, LearningRateScheduler\n",
        "from IPython.display import display\n",
        "from tensorflow.python.keras import *\n",
        "from tensorflow.keras.preprocessing.image import ImageDataGenerator\n",
        "from tensorflow.keras import layers, optimizers\n",
        "from tensorflow.keras.applications.resnet50 import ResNet50\n",
        "from tensorflow.keras.layers import *\n",
        "from tensorflow.keras import backend as K\n",
        "from keras import optimizers\n",
        "import matplotlib.pyplot as plt\n",
        "from sklearn.model_selection import train_test_split\n",
        "from google.colab.patches import cv2_imshow"
      ],
      "execution_count": null,
      "outputs": []
    },
    {
      "cell_type": "code",
      "metadata": {
        "id": "NbnVdpLhJx0Y"
      },
      "source": [
        "facial_key= pd.read_csv(\"/content/drive/MyDrive/Emotion AI Dataset/data.csv\")"
      ],
      "execution_count": null,
      "outputs": []
    },
    {
      "cell_type": "code",
      "metadata": {
        "colab": {
          "base_uri": "https://localhost:8080/",
          "height": 1000
        },
        "id": "LaNQImd5KRT9",
        "outputId": "2fe9a18b-5651-40de-edfd-448932b39da9"
      },
      "source": [
        "facial_key"
      ],
      "execution_count": null,
      "outputs": [
        {
          "output_type": "execute_result",
          "data": {
            "text/html": [
              "<div>\n",
              "<style scoped>\n",
              "    .dataframe tbody tr th:only-of-type {\n",
              "        vertical-align: middle;\n",
              "    }\n",
              "\n",
              "    .dataframe tbody tr th {\n",
              "        vertical-align: top;\n",
              "    }\n",
              "\n",
              "    .dataframe thead th {\n",
              "        text-align: right;\n",
              "    }\n",
              "</style>\n",
              "<table border=\"1\" class=\"dataframe\">\n",
              "  <thead>\n",
              "    <tr style=\"text-align: right;\">\n",
              "      <th></th>\n",
              "      <th>left_eye_center_x</th>\n",
              "      <th>left_eye_center_y</th>\n",
              "      <th>right_eye_center_x</th>\n",
              "      <th>right_eye_center_y</th>\n",
              "      <th>left_eye_inner_corner_x</th>\n",
              "      <th>left_eye_inner_corner_y</th>\n",
              "      <th>left_eye_outer_corner_x</th>\n",
              "      <th>left_eye_outer_corner_y</th>\n",
              "      <th>right_eye_inner_corner_x</th>\n",
              "      <th>right_eye_inner_corner_y</th>\n",
              "      <th>right_eye_outer_corner_x</th>\n",
              "      <th>right_eye_outer_corner_y</th>\n",
              "      <th>left_eyebrow_inner_end_x</th>\n",
              "      <th>left_eyebrow_inner_end_y</th>\n",
              "      <th>left_eyebrow_outer_end_x</th>\n",
              "      <th>left_eyebrow_outer_end_y</th>\n",
              "      <th>right_eyebrow_inner_end_x</th>\n",
              "      <th>right_eyebrow_inner_end_y</th>\n",
              "      <th>right_eyebrow_outer_end_x</th>\n",
              "      <th>right_eyebrow_outer_end_y</th>\n",
              "      <th>nose_tip_x</th>\n",
              "      <th>nose_tip_y</th>\n",
              "      <th>mouth_left_corner_x</th>\n",
              "      <th>mouth_left_corner_y</th>\n",
              "      <th>mouth_right_corner_x</th>\n",
              "      <th>mouth_right_corner_y</th>\n",
              "      <th>mouth_center_top_lip_x</th>\n",
              "      <th>mouth_center_top_lip_y</th>\n",
              "      <th>mouth_center_bottom_lip_x</th>\n",
              "      <th>mouth_center_bottom_lip_y</th>\n",
              "      <th>Image</th>\n",
              "    </tr>\n",
              "  </thead>\n",
              "  <tbody>\n",
              "    <tr>\n",
              "      <th>0</th>\n",
              "      <td>66.033564</td>\n",
              "      <td>39.002274</td>\n",
              "      <td>30.227008</td>\n",
              "      <td>36.421678</td>\n",
              "      <td>59.582075</td>\n",
              "      <td>39.647423</td>\n",
              "      <td>73.130346</td>\n",
              "      <td>39.969997</td>\n",
              "      <td>36.356571</td>\n",
              "      <td>37.389402</td>\n",
              "      <td>23.452872</td>\n",
              "      <td>37.389402</td>\n",
              "      <td>56.953263</td>\n",
              "      <td>29.033648</td>\n",
              "      <td>80.227128</td>\n",
              "      <td>32.228138</td>\n",
              "      <td>40.227609</td>\n",
              "      <td>29.002322</td>\n",
              "      <td>16.356379</td>\n",
              "      <td>29.647471</td>\n",
              "      <td>44.420571</td>\n",
              "      <td>57.066803</td>\n",
              "      <td>61.195308</td>\n",
              "      <td>79.970165</td>\n",
              "      <td>28.614496</td>\n",
              "      <td>77.388992</td>\n",
              "      <td>43.312602</td>\n",
              "      <td>72.935459</td>\n",
              "      <td>43.130707</td>\n",
              "      <td>84.485774</td>\n",
              "      <td>238 236 237 238 240 240 239 241 241 243 240 23...</td>\n",
              "    </tr>\n",
              "    <tr>\n",
              "      <th>1</th>\n",
              "      <td>64.332936</td>\n",
              "      <td>34.970077</td>\n",
              "      <td>29.949277</td>\n",
              "      <td>33.448715</td>\n",
              "      <td>58.856170</td>\n",
              "      <td>35.274349</td>\n",
              "      <td>70.722723</td>\n",
              "      <td>36.187166</td>\n",
              "      <td>36.034723</td>\n",
              "      <td>34.361532</td>\n",
              "      <td>24.472511</td>\n",
              "      <td>33.144443</td>\n",
              "      <td>53.987404</td>\n",
              "      <td>28.275949</td>\n",
              "      <td>78.634213</td>\n",
              "      <td>30.405923</td>\n",
              "      <td>42.728851</td>\n",
              "      <td>26.146043</td>\n",
              "      <td>16.865362</td>\n",
              "      <td>27.058860</td>\n",
              "      <td>48.206298</td>\n",
              "      <td>55.660936</td>\n",
              "      <td>56.421447</td>\n",
              "      <td>76.352000</td>\n",
              "      <td>35.122383</td>\n",
              "      <td>76.047660</td>\n",
              "      <td>46.684596</td>\n",
              "      <td>70.266553</td>\n",
              "      <td>45.467915</td>\n",
              "      <td>85.480170</td>\n",
              "      <td>219 215 204 196 204 211 212 200 180 168 178 19...</td>\n",
              "    </tr>\n",
              "    <tr>\n",
              "      <th>2</th>\n",
              "      <td>65.057053</td>\n",
              "      <td>34.909642</td>\n",
              "      <td>30.903789</td>\n",
              "      <td>34.909642</td>\n",
              "      <td>59.412000</td>\n",
              "      <td>36.320968</td>\n",
              "      <td>70.984421</td>\n",
              "      <td>36.320968</td>\n",
              "      <td>37.678105</td>\n",
              "      <td>36.320968</td>\n",
              "      <td>24.976421</td>\n",
              "      <td>36.603221</td>\n",
              "      <td>55.742526</td>\n",
              "      <td>27.570947</td>\n",
              "      <td>78.887368</td>\n",
              "      <td>32.651621</td>\n",
              "      <td>42.193895</td>\n",
              "      <td>28.135453</td>\n",
              "      <td>16.791158</td>\n",
              "      <td>32.087116</td>\n",
              "      <td>47.557263</td>\n",
              "      <td>53.538947</td>\n",
              "      <td>60.822947</td>\n",
              "      <td>73.014316</td>\n",
              "      <td>33.726316</td>\n",
              "      <td>72.732000</td>\n",
              "      <td>47.274947</td>\n",
              "      <td>70.191789</td>\n",
              "      <td>47.274947</td>\n",
              "      <td>78.659368</td>\n",
              "      <td>144 142 159 180 188 188 184 180 167 132 84 59 ...</td>\n",
              "    </tr>\n",
              "    <tr>\n",
              "      <th>3</th>\n",
              "      <td>65.225739</td>\n",
              "      <td>37.261774</td>\n",
              "      <td>32.023096</td>\n",
              "      <td>37.261774</td>\n",
              "      <td>60.003339</td>\n",
              "      <td>39.127179</td>\n",
              "      <td>72.314713</td>\n",
              "      <td>38.380967</td>\n",
              "      <td>37.618643</td>\n",
              "      <td>38.754115</td>\n",
              "      <td>25.307270</td>\n",
              "      <td>38.007903</td>\n",
              "      <td>56.433809</td>\n",
              "      <td>30.929864</td>\n",
              "      <td>77.910261</td>\n",
              "      <td>31.665725</td>\n",
              "      <td>41.671513</td>\n",
              "      <td>31.049990</td>\n",
              "      <td>20.458017</td>\n",
              "      <td>29.909343</td>\n",
              "      <td>51.885078</td>\n",
              "      <td>54.166539</td>\n",
              "      <td>65.598887</td>\n",
              "      <td>72.703722</td>\n",
              "      <td>37.245496</td>\n",
              "      <td>74.195478</td>\n",
              "      <td>50.303165</td>\n",
              "      <td>70.091687</td>\n",
              "      <td>51.561183</td>\n",
              "      <td>78.268383</td>\n",
              "      <td>193 192 193 194 194 194 193 192 168 111 50 12 ...</td>\n",
              "    </tr>\n",
              "    <tr>\n",
              "      <th>4</th>\n",
              "      <td>66.725301</td>\n",
              "      <td>39.621261</td>\n",
              "      <td>32.244810</td>\n",
              "      <td>38.042032</td>\n",
              "      <td>58.565890</td>\n",
              "      <td>39.621261</td>\n",
              "      <td>72.515926</td>\n",
              "      <td>39.884466</td>\n",
              "      <td>36.982380</td>\n",
              "      <td>39.094852</td>\n",
              "      <td>22.506110</td>\n",
              "      <td>38.305237</td>\n",
              "      <td>57.249571</td>\n",
              "      <td>30.672177</td>\n",
              "      <td>77.762945</td>\n",
              "      <td>31.737247</td>\n",
              "      <td>38.035436</td>\n",
              "      <td>30.935382</td>\n",
              "      <td>15.925870</td>\n",
              "      <td>30.672177</td>\n",
              "      <td>43.299534</td>\n",
              "      <td>64.889521</td>\n",
              "      <td>60.671411</td>\n",
              "      <td>77.523239</td>\n",
              "      <td>31.191755</td>\n",
              "      <td>76.997301</td>\n",
              "      <td>44.962748</td>\n",
              "      <td>73.707387</td>\n",
              "      <td>44.227141</td>\n",
              "      <td>86.871166</td>\n",
              "      <td>147 148 160 196 215 214 216 217 219 220 206 18...</td>\n",
              "    </tr>\n",
              "    <tr>\n",
              "      <th>...</th>\n",
              "      <td>...</td>\n",
              "      <td>...</td>\n",
              "      <td>...</td>\n",
              "      <td>...</td>\n",
              "      <td>...</td>\n",
              "      <td>...</td>\n",
              "      <td>...</td>\n",
              "      <td>...</td>\n",
              "      <td>...</td>\n",
              "      <td>...</td>\n",
              "      <td>...</td>\n",
              "      <td>...</td>\n",
              "      <td>...</td>\n",
              "      <td>...</td>\n",
              "      <td>...</td>\n",
              "      <td>...</td>\n",
              "      <td>...</td>\n",
              "      <td>...</td>\n",
              "      <td>...</td>\n",
              "      <td>...</td>\n",
              "      <td>...</td>\n",
              "      <td>...</td>\n",
              "      <td>...</td>\n",
              "      <td>...</td>\n",
              "      <td>...</td>\n",
              "      <td>...</td>\n",
              "      <td>...</td>\n",
              "      <td>...</td>\n",
              "      <td>...</td>\n",
              "      <td>...</td>\n",
              "      <td>...</td>\n",
              "    </tr>\n",
              "    <tr>\n",
              "      <th>2135</th>\n",
              "      <td>67.180378</td>\n",
              "      <td>35.816373</td>\n",
              "      <td>33.239956</td>\n",
              "      <td>34.921932</td>\n",
              "      <td>59.347973</td>\n",
              "      <td>37.000904</td>\n",
              "      <td>72.667896</td>\n",
              "      <td>37.097600</td>\n",
              "      <td>39.404349</td>\n",
              "      <td>36.589944</td>\n",
              "      <td>24.972418</td>\n",
              "      <td>36.348203</td>\n",
              "      <td>56.402841</td>\n",
              "      <td>31.171586</td>\n",
              "      <td>80.709708</td>\n",
              "      <td>30.595738</td>\n",
              "      <td>38.187845</td>\n",
              "      <td>30.595738</td>\n",
              "      <td>17.275454</td>\n",
              "      <td>29.534964</td>\n",
              "      <td>45.805390</td>\n",
              "      <td>60.065396</td>\n",
              "      <td>64.397610</td>\n",
              "      <td>73.248393</td>\n",
              "      <td>35.446431</td>\n",
              "      <td>74.014748</td>\n",
              "      <td>48.708626</td>\n",
              "      <td>76.760852</td>\n",
              "      <td>48.559612</td>\n",
              "      <td>77.335618</td>\n",
              "      <td>191 191 191 190 189 185 184 120 54 34 19 24 31...</td>\n",
              "    </tr>\n",
              "    <tr>\n",
              "      <th>2136</th>\n",
              "      <td>65.724490</td>\n",
              "      <td>36.301020</td>\n",
              "      <td>25.377551</td>\n",
              "      <td>37.311224</td>\n",
              "      <td>58.530612</td>\n",
              "      <td>37.739796</td>\n",
              "      <td>74.448980</td>\n",
              "      <td>37.525510</td>\n",
              "      <td>33.551020</td>\n",
              "      <td>38.107143</td>\n",
              "      <td>15.979592</td>\n",
              "      <td>38.076531</td>\n",
              "      <td>56.941270</td>\n",
              "      <td>29.605102</td>\n",
              "      <td>81.314059</td>\n",
              "      <td>30.754762</td>\n",
              "      <td>35.059410</td>\n",
              "      <td>29.566780</td>\n",
              "      <td>8.578912</td>\n",
              "      <td>32.096032</td>\n",
              "      <td>53.649433</td>\n",
              "      <td>62.472789</td>\n",
              "      <td>66.928121</td>\n",
              "      <td>79.229046</td>\n",
              "      <td>28.015377</td>\n",
              "      <td>81.151722</td>\n",
              "      <td>48.771976</td>\n",
              "      <td>81.816774</td>\n",
              "      <td>49.287271</td>\n",
              "      <td>82.871156</td>\n",
              "      <td>19 19 19 18 13 7 3 4 3 1 3 9 11 12 12 13 10 9 ...</td>\n",
              "    </tr>\n",
              "    <tr>\n",
              "      <th>2137</th>\n",
              "      <td>68.430866</td>\n",
              "      <td>38.651975</td>\n",
              "      <td>28.895857</td>\n",
              "      <td>37.617027</td>\n",
              "      <td>61.659350</td>\n",
              "      <td>40.100902</td>\n",
              "      <td>75.586792</td>\n",
              "      <td>40.219182</td>\n",
              "      <td>37.665118</td>\n",
              "      <td>39.087245</td>\n",
              "      <td>21.621652</td>\n",
              "      <td>39.095524</td>\n",
              "      <td>62.388142</td>\n",
              "      <td>32.089787</td>\n",
              "      <td>85.829396</td>\n",
              "      <td>38.724104</td>\n",
              "      <td>42.595762</td>\n",
              "      <td>30.541779</td>\n",
              "      <td>11.230184</td>\n",
              "      <td>34.485512</td>\n",
              "      <td>53.318891</td>\n",
              "      <td>63.289576</td>\n",
              "      <td>68.864397</td>\n",
              "      <td>77.495823</td>\n",
              "      <td>22.013981</td>\n",
              "      <td>77.368995</td>\n",
              "      <td>49.180628</td>\n",
              "      <td>79.043130</td>\n",
              "      <td>47.176739</td>\n",
              "      <td>89.544522</td>\n",
              "      <td>31 40 47 31 54 58 63 100 86 80 82 75 79 86 90 ...</td>\n",
              "    </tr>\n",
              "    <tr>\n",
              "      <th>2138</th>\n",
              "      <td>64.152180</td>\n",
              "      <td>30.691592</td>\n",
              "      <td>27.000898</td>\n",
              "      <td>40.868082</td>\n",
              "      <td>56.505624</td>\n",
              "      <td>34.126963</td>\n",
              "      <td>73.436776</td>\n",
              "      <td>28.556335</td>\n",
              "      <td>34.746122</td>\n",
              "      <td>40.506939</td>\n",
              "      <td>16.850204</td>\n",
              "      <td>44.409861</td>\n",
              "      <td>51.463469</td>\n",
              "      <td>27.161327</td>\n",
              "      <td>77.354898</td>\n",
              "      <td>19.562755</td>\n",
              "      <td>34.135510</td>\n",
              "      <td>32.830102</td>\n",
              "      <td>9.731633</td>\n",
              "      <td>41.152347</td>\n",
              "      <td>54.075935</td>\n",
              "      <td>59.735799</td>\n",
              "      <td>73.730743</td>\n",
              "      <td>70.273886</td>\n",
              "      <td>38.777143</td>\n",
              "      <td>80.684286</td>\n",
              "      <td>58.042857</td>\n",
              "      <td>79.301429</td>\n",
              "      <td>58.611086</td>\n",
              "      <td>80.355543</td>\n",
              "      <td>7 1 5 1 3 20 12 0 5 8 6 18 13 9 8 12 12 11 4 8...</td>\n",
              "    </tr>\n",
              "    <tr>\n",
              "      <th>2139</th>\n",
              "      <td>66.683755</td>\n",
              "      <td>34.483429</td>\n",
              "      <td>30.784490</td>\n",
              "      <td>38.578939</td>\n",
              "      <td>59.255347</td>\n",
              "      <td>36.065143</td>\n",
              "      <td>73.942694</td>\n",
              "      <td>34.624653</td>\n",
              "      <td>37.478531</td>\n",
              "      <td>39.398041</td>\n",
              "      <td>22.056816</td>\n",
              "      <td>40.330122</td>\n",
              "      <td>53.299787</td>\n",
              "      <td>29.987657</td>\n",
              "      <td>80.947787</td>\n",
              "      <td>27.977535</td>\n",
              "      <td>38.779298</td>\n",
              "      <td>33.302596</td>\n",
              "      <td>14.798890</td>\n",
              "      <td>35.982760</td>\n",
              "      <td>49.973878</td>\n",
              "      <td>59.269388</td>\n",
              "      <td>72.600433</td>\n",
              "      <td>71.862041</td>\n",
              "      <td>34.232759</td>\n",
              "      <td>77.339429</td>\n",
              "      <td>51.599453</td>\n",
              "      <td>75.963592</td>\n",
              "      <td>52.923371</td>\n",
              "      <td>82.661062</td>\n",
              "      <td>68 19 19 23 19 26 23 16 8 15 9 9 17 16 15 27 2...</td>\n",
              "    </tr>\n",
              "  </tbody>\n",
              "</table>\n",
              "<p>2140 rows × 31 columns</p>\n",
              "</div>"
            ],
            "text/plain": [
              "      left_eye_center_x  ...                                              Image\n",
              "0             66.033564  ...  238 236 237 238 240 240 239 241 241 243 240 23...\n",
              "1             64.332936  ...  219 215 204 196 204 211 212 200 180 168 178 19...\n",
              "2             65.057053  ...  144 142 159 180 188 188 184 180 167 132 84 59 ...\n",
              "3             65.225739  ...  193 192 193 194 194 194 193 192 168 111 50 12 ...\n",
              "4             66.725301  ...  147 148 160 196 215 214 216 217 219 220 206 18...\n",
              "...                 ...  ...                                                ...\n",
              "2135          67.180378  ...  191 191 191 190 189 185 184 120 54 34 19 24 31...\n",
              "2136          65.724490  ...  19 19 19 18 13 7 3 4 3 1 3 9 11 12 12 13 10 9 ...\n",
              "2137          68.430866  ...  31 40 47 31 54 58 63 100 86 80 82 75 79 86 90 ...\n",
              "2138          64.152180  ...  7 1 5 1 3 20 12 0 5 8 6 18 13 9 8 12 12 11 4 8...\n",
              "2139          66.683755  ...  68 19 19 23 19 26 23 16 8 15 9 9 17 16 15 27 2...\n",
              "\n",
              "[2140 rows x 31 columns]"
            ]
          },
          "metadata": {
            "tags": []
          },
          "execution_count": 4
        }
      ]
    },
    {
      "cell_type": "code",
      "metadata": {
        "colab": {
          "base_uri": "https://localhost:8080/"
        },
        "id": "V88cYyDVLR0j",
        "outputId": "361c288a-a2a7-41cb-b216-16a76697b548"
      },
      "source": [
        "facial_key.info()"
      ],
      "execution_count": null,
      "outputs": [
        {
          "output_type": "stream",
          "text": [
            "<class 'pandas.core.frame.DataFrame'>\n",
            "RangeIndex: 2140 entries, 0 to 2139\n",
            "Data columns (total 31 columns):\n",
            " #   Column                     Non-Null Count  Dtype  \n",
            "---  ------                     --------------  -----  \n",
            " 0   left_eye_center_x          2140 non-null   float64\n",
            " 1   left_eye_center_y          2140 non-null   float64\n",
            " 2   right_eye_center_x         2140 non-null   float64\n",
            " 3   right_eye_center_y         2140 non-null   float64\n",
            " 4   left_eye_inner_corner_x    2140 non-null   float64\n",
            " 5   left_eye_inner_corner_y    2140 non-null   float64\n",
            " 6   left_eye_outer_corner_x    2140 non-null   float64\n",
            " 7   left_eye_outer_corner_y    2140 non-null   float64\n",
            " 8   right_eye_inner_corner_x   2140 non-null   float64\n",
            " 9   right_eye_inner_corner_y   2140 non-null   float64\n",
            " 10  right_eye_outer_corner_x   2140 non-null   float64\n",
            " 11  right_eye_outer_corner_y   2140 non-null   float64\n",
            " 12  left_eyebrow_inner_end_x   2140 non-null   float64\n",
            " 13  left_eyebrow_inner_end_y   2140 non-null   float64\n",
            " 14  left_eyebrow_outer_end_x   2140 non-null   float64\n",
            " 15  left_eyebrow_outer_end_y   2140 non-null   float64\n",
            " 16  right_eyebrow_inner_end_x  2140 non-null   float64\n",
            " 17  right_eyebrow_inner_end_y  2140 non-null   float64\n",
            " 18  right_eyebrow_outer_end_x  2140 non-null   float64\n",
            " 19  right_eyebrow_outer_end_y  2140 non-null   float64\n",
            " 20  nose_tip_x                 2140 non-null   float64\n",
            " 21  nose_tip_y                 2140 non-null   float64\n",
            " 22  mouth_left_corner_x        2140 non-null   float64\n",
            " 23  mouth_left_corner_y        2140 non-null   float64\n",
            " 24  mouth_right_corner_x       2140 non-null   float64\n",
            " 25  mouth_right_corner_y       2140 non-null   float64\n",
            " 26  mouth_center_top_lip_x     2140 non-null   float64\n",
            " 27  mouth_center_top_lip_y     2140 non-null   float64\n",
            " 28  mouth_center_bottom_lip_x  2140 non-null   float64\n",
            " 29  mouth_center_bottom_lip_y  2140 non-null   float64\n",
            " 30  Image                      2140 non-null   object \n",
            "dtypes: float64(30), object(1)\n",
            "memory usage: 518.4+ KB\n"
          ],
          "name": "stdout"
        }
      ]
    },
    {
      "cell_type": "code",
      "metadata": {
        "colab": {
          "base_uri": "https://localhost:8080/"
        },
        "id": "S4tB5AcvLiJU",
        "outputId": "954fd644-8c28-4505-8cb2-3fd6fa53406f"
      },
      "source": [
        "facial_key.isnull().sum()"
      ],
      "execution_count": null,
      "outputs": [
        {
          "output_type": "execute_result",
          "data": {
            "text/plain": [
              "left_eye_center_x            0\n",
              "left_eye_center_y            0\n",
              "right_eye_center_x           0\n",
              "right_eye_center_y           0\n",
              "left_eye_inner_corner_x      0\n",
              "left_eye_inner_corner_y      0\n",
              "left_eye_outer_corner_x      0\n",
              "left_eye_outer_corner_y      0\n",
              "right_eye_inner_corner_x     0\n",
              "right_eye_inner_corner_y     0\n",
              "right_eye_outer_corner_x     0\n",
              "right_eye_outer_corner_y     0\n",
              "left_eyebrow_inner_end_x     0\n",
              "left_eyebrow_inner_end_y     0\n",
              "left_eyebrow_outer_end_x     0\n",
              "left_eyebrow_outer_end_y     0\n",
              "right_eyebrow_inner_end_x    0\n",
              "right_eyebrow_inner_end_y    0\n",
              "right_eyebrow_outer_end_x    0\n",
              "right_eyebrow_outer_end_y    0\n",
              "nose_tip_x                   0\n",
              "nose_tip_y                   0\n",
              "mouth_left_corner_x          0\n",
              "mouth_left_corner_y          0\n",
              "mouth_right_corner_x         0\n",
              "mouth_right_corner_y         0\n",
              "mouth_center_top_lip_x       0\n",
              "mouth_center_top_lip_y       0\n",
              "mouth_center_bottom_lip_x    0\n",
              "mouth_center_bottom_lip_y    0\n",
              "Image                        0\n",
              "dtype: int64"
            ]
          },
          "metadata": {
            "tags": []
          },
          "execution_count": 8
        }
      ]
    },
    {
      "cell_type": "code",
      "metadata": {
        "colab": {
          "base_uri": "https://localhost:8080/"
        },
        "id": "VgZGg9kTLt16",
        "outputId": "6e1a244b-6ab5-4046-c097-2ed66fa2868e"
      },
      "source": [
        "facial_key['Image'].shape"
      ],
      "execution_count": null,
      "outputs": [
        {
          "output_type": "execute_result",
          "data": {
            "text/plain": [
              "(2140,)"
            ]
          },
          "metadata": {
            "tags": []
          },
          "execution_count": 9
        }
      ]
    },
    {
      "cell_type": "code",
      "metadata": {
        "id": "nLo-vCXgNGSR"
      },
      "source": [
        "facial_key['Image']= facial_key['Image'].apply( lambda x: np.fromstring(x, dtype=int, sep=' ').reshape(96,96) )"
      ],
      "execution_count": null,
      "outputs": []
    },
    {
      "cell_type": "code",
      "metadata": {
        "colab": {
          "base_uri": "https://localhost:8080/"
        },
        "id": "_ErjoXONNuLs",
        "outputId": "c93692d8-67fb-40e3-e600-99dcd2b7202d"
      },
      "source": [
        "facial_key['Image']"
      ],
      "execution_count": null,
      "outputs": [
        {
          "output_type": "execute_result",
          "data": {
            "text/plain": [
              "0       [[238, 236, 237, 238, 240, 240, 239, 241, 241,...\n",
              "1       [[219, 215, 204, 196, 204, 211, 212, 200, 180,...\n",
              "2       [[144, 142, 159, 180, 188, 188, 184, 180, 167,...\n",
              "3       [[193, 192, 193, 194, 194, 194, 193, 192, 168,...\n",
              "4       [[147, 148, 160, 196, 215, 214, 216, 217, 219,...\n",
              "                              ...                        \n",
              "2135    [[191, 191, 191, 190, 189, 185, 184, 120, 54, ...\n",
              "2136    [[19, 19, 19, 18, 13, 7, 3, 4, 3, 1, 3, 9, 11,...\n",
              "2137    [[31, 40, 47, 31, 54, 58, 63, 100, 86, 80, 82,...\n",
              "2138    [[7, 1, 5, 1, 3, 20, 12, 0, 5, 8, 6, 18, 13, 9...\n",
              "2139    [[68, 19, 19, 23, 19, 26, 23, 16, 8, 15, 9, 9,...\n",
              "Name: Image, Length: 2140, dtype: object"
            ]
          },
          "metadata": {
            "tags": []
          },
          "execution_count": 11
        }
      ]
    },
    {
      "cell_type": "code",
      "metadata": {
        "colab": {
          "base_uri": "https://localhost:8080/",
          "height": 268
        },
        "id": "Iv6NxWDmNFtc",
        "outputId": "5312bbd9-649b-4369-8007-50b920fdb463"
      },
      "source": [
        "# Showing the image\n",
        "plt.imshow( facial_key['Image'][0], cmap= 'gray' )\n",
        "# Showing the key points\n",
        "for j in range( 1,31, 2 ):\n",
        "  plt.plot(facial_key.loc[0][j-1], facial_key.loc[0][j], 'rx')\n"
      ],
      "execution_count": null,
      "outputs": [
        {
          "output_type": "display_data",
          "data": {
            "image/png": "[encoded data removed]",
            "text/plain": [
              "<Figure size 432x288 with 1 Axes>"
            ]
          },
          "metadata": {
            "tags": [],
            "needs_background": "light"
          }
        }
      ]
    },
    {
      "cell_type": "markdown",
      "metadata": {
        "id": "qqx1gqT8xqE9"
      },
      "source": [
        "## **Image augmentation**"
      ]
    },
    {
      "cell_type": "code",
      "metadata": {
        "id": "vpaVRvfNxwg1"
      },
      "source": [
        "import copy \n",
        "facial_key_copy= copy.copy( facial_key )"
      ],
      "execution_count": null,
      "outputs": []
    },
    {
      "cell_type": "code",
      "metadata": {
        "colab": {
          "base_uri": "https://localhost:8080/"
        },
        "id": "V7Rx5TCFHfOs",
        "outputId": "20e928ed-fc9c-403d-dc61-b2ef39bb6f46"
      },
      "source": [
        "columns= facial_key.columns[:-1]\n",
        "columns"
      ],
      "execution_count": null,
      "outputs": [
        {
          "output_type": "execute_result",
          "data": {
            "text/plain": [
              "Index(['left_eye_center_x', 'left_eye_center_y', 'right_eye_center_x',\n",
              "       'right_eye_center_y', 'left_eye_inner_corner_x',\n",
              "       'left_eye_inner_corner_y', 'left_eye_outer_corner_x',\n",
              "       'left_eye_outer_corner_y', 'right_eye_inner_corner_x',\n",
              "       'right_eye_inner_corner_y', 'right_eye_outer_corner_x',\n",
              "       'right_eye_outer_corner_y', 'left_eyebrow_inner_end_x',\n",
              "       'left_eyebrow_inner_end_y', 'left_eyebrow_outer_end_x',\n",
              "       'left_eyebrow_outer_end_y', 'right_eyebrow_inner_end_x',\n",
              "       'right_eyebrow_inner_end_y', 'right_eyebrow_outer_end_x',\n",
              "       'right_eyebrow_outer_end_y', 'nose_tip_x', 'nose_tip_y',\n",
              "       'mouth_left_corner_x', 'mouth_left_corner_y', 'mouth_right_corner_x',\n",
              "       'mouth_right_corner_y', 'mouth_center_top_lip_x',\n",
              "       'mouth_center_top_lip_y', 'mouth_center_bottom_lip_x',\n",
              "       'mouth_center_bottom_lip_y'],\n",
              "      dtype='object')"
            ]
          },
          "metadata": {
            "tags": []
          },
          "execution_count": 6
        }
      ]
    },
    {
      "cell_type": "code",
      "metadata": {
        "id": "nZz-dbxoHrNz"
      },
      "source": [
        "# Horizontal flip\n",
        "facial_key_copy['Image']= facial_key_copy['Image'].apply( lambda x: np.flip( x, axis=1 ) )\n",
        "\n",
        "# Flipping the x co-ordinates of the key points\n",
        "for i in range(len(columns)):\n",
        "  if i%2==0:\n",
        "    facial_key_copy[columns[i]]= facial_key_copy[columns[i]].apply( lambda x: 96.-float(x) )"
      ],
      "execution_count": null,
      "outputs": []
    },
    {
      "cell_type": "code",
      "metadata": {
        "colab": {
          "base_uri": "https://localhost:8080/",
          "height": 268
        },
        "id": "UEtoWpARIp0a",
        "outputId": "8ff2145e-0a06-4689-86a9-68aca9ba4f5b"
      },
      "source": [
        "plt.imshow( facial_key_copy['Image'][0], cmap='gray' )\n",
        "\n",
        "for i in range(1,31,2):\n",
        "  plt.plot( facial_key_copy.loc[0][i-1], facial_key_copy.loc[0][i], 'rx' )"
      ],
      "execution_count": null,
      "outputs": [
        {
          "output_type": "display_data",
          "data": {
            "image/png": "[encoded data removed]",
            "text/plain": [
              "<Figure size 432x288 with 1 Axes>"
            ]
          },
          "metadata": {
            "tags": [],
            "needs_background": "light"
          }
        }
      ]
    },
    {
      "cell_type": "code",
      "metadata": {
        "colab": {
          "base_uri": "https://localhost:8080/"
        },
        "id": "YD-scfJlJXcz",
        "outputId": "34b3651d-a8cd-491e-cf09-47bf7bbadf7f"
      },
      "source": [
        "augmented_facial= np.concatenate( (facial_key, facial_key_copy) )\n",
        "augmented_facial.shape"
      ],
      "execution_count": null,
      "outputs": [
        {
          "output_type": "execute_result",
          "data": {
            "text/plain": [
              "(4280, 31)"
            ]
          },
          "metadata": {
            "tags": []
          },
          "execution_count": 8
        }
      ]
    },
    {
      "cell_type": "code",
      "metadata": {
        "colab": {
          "base_uri": "https://localhost:8080/"
        },
        "id": "xaqmqUh8KMsM",
        "outputId": "7983b043-7eb2-492a-9c37-c0d2b28a3255"
      },
      "source": [
        "# Increasing the brightness by multiplying the pixel values\n",
        "import random\n",
        "facial_key_copy= copy.copy( facial_key )\n",
        "\n",
        "facial_key_copy['Image']= facial_key_copy['Image'].apply( lambda x: np.clip( random.uniform(1.5,2)*x, 0.0, 255.0 ) )\n",
        "augmented_facial= np.concatenate( (augmented_facial, facial_key_copy) )\n",
        "augmented_facial.shape"
      ],
      "execution_count": null,
      "outputs": [
        {
          "output_type": "execute_result",
          "data": {
            "text/plain": [
              "(6420, 31)"
            ]
          },
          "metadata": {
            "tags": []
          },
          "execution_count": 9
        }
      ]
    },
    {
      "cell_type": "code",
      "metadata": {
        "colab": {
          "base_uri": "https://localhost:8080/",
          "height": 268
        },
        "id": "Xp7C08I-UsmE",
        "outputId": "0ae035a3-086c-4f4d-b040-25b229646b36"
      },
      "source": [
        "plt.imshow(facial_key_copy['Image'][0], cmap='gray')\n",
        "for j in range(1, 31, 2):\n",
        "        plt.plot(facial_key_copy.loc[0][j-1], facial_key_copy.loc[0][j], 'rx')"
      ],
      "execution_count": null,
      "outputs": [
        {
          "output_type": "display_data",
          "data": {
            "image/png": "[encoded data removed]",
            "text/plain": [
              "<Figure size 432x288 with 1 Axes>"
            ]
          },
          "metadata": {
            "tags": [],
            "needs_background": "light"
          }
        }
      ]
    }
  ]
}